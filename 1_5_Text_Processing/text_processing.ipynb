{
 "cells": [
  {
   "cell_type": "markdown",
   "metadata": {},
   "source": [
    "# Text Processing\n",
    "\n",
    "## Capturing Text Data\n",
    "\n",
    "### Plain Text"
   ]
  },
  {
   "cell_type": "code",
   "execution_count": 1,
   "metadata": {},
   "outputs": [
    {
     "name": "stdout",
     "output_type": "stream",
     "text": [
      "Hieroglyphic writing dates from c. 3000 BC, and is composed of hundreds of symbols. A hieroglyph can represent a word, a sound, or a silent determinative; and the same symbol can serve different purposes in different contexts. Hieroglyphs were a formal script, used on stone monuments and in tombs, that could be as detailed as individual works of art.\n",
      "\n"
     ]
    }
   ],
   "source": [
    "import os\n",
    "\n",
    "# Read in a plain text file\n",
    "with open(os.path.join(\"data\", \"hieroglyph.txt\"), \"r\") as f:\n",
    "    text = f.read()\n",
    "    print(text)"
   ]
  },
  {
   "cell_type": "markdown",
   "metadata": {},
   "source": [
    "### Tabular Data"
   ]
  },
  {
   "cell_type": "code",
   "execution_count": 2,
   "metadata": {
    "scrolled": true
   },
   "outputs": [
    {
     "data": {
      "text/html": [
       "<div>\n",
       "<style scoped>\n",
       "    .dataframe tbody tr th:only-of-type {\n",
       "        vertical-align: middle;\n",
       "    }\n",
       "\n",
       "    .dataframe tbody tr th {\n",
       "        vertical-align: top;\n",
       "    }\n",
       "\n",
       "    .dataframe thead th {\n",
       "        text-align: right;\n",
       "    }\n",
       "</style>\n",
       "<table border=\"1\" class=\"dataframe\">\n",
       "  <thead>\n",
       "    <tr style=\"text-align: right;\">\n",
       "      <th></th>\n",
       "      <th>publisher</th>\n",
       "      <th>title</th>\n",
       "    </tr>\n",
       "  </thead>\n",
       "  <tbody>\n",
       "    <tr>\n",
       "      <th>0</th>\n",
       "      <td>Livemint</td>\n",
       "      <td>fed's charles plosser sees high bar for change...</td>\n",
       "    </tr>\n",
       "    <tr>\n",
       "      <th>1</th>\n",
       "      <td>IFA Magazine</td>\n",
       "      <td>us open: stocks fall after fed official hints ...</td>\n",
       "    </tr>\n",
       "    <tr>\n",
       "      <th>2</th>\n",
       "      <td>IFA Magazine</td>\n",
       "      <td>fed risks falling 'behind the curve', charles ...</td>\n",
       "    </tr>\n",
       "    <tr>\n",
       "      <th>3</th>\n",
       "      <td>Moneynews</td>\n",
       "      <td>fed's plosser: nasty weather has curbed job gr...</td>\n",
       "    </tr>\n",
       "    <tr>\n",
       "      <th>4</th>\n",
       "      <td>NASDAQ</td>\n",
       "      <td>plosser: fed may have to accelerate tapering pace</td>\n",
       "    </tr>\n",
       "  </tbody>\n",
       "</table>\n",
       "</div>"
      ],
      "text/plain": [
       "      publisher                                              title\n",
       "0      Livemint  fed's charles plosser sees high bar for change...\n",
       "1  IFA Magazine  us open: stocks fall after fed official hints ...\n",
       "2  IFA Magazine  fed risks falling 'behind the curve', charles ...\n",
       "3     Moneynews  fed's plosser: nasty weather has curbed job gr...\n",
       "4        NASDAQ  plosser: fed may have to accelerate tapering pace"
      ]
     },
     "execution_count": 2,
     "metadata": {},
     "output_type": "execute_result"
    }
   ],
   "source": [
    "import pandas as pd\n",
    "\n",
    "# Extract text column from a dataframe\n",
    "df = pd.read_csv(os.path.join(\"data\", \"news.csv\"))\n",
    "df.head()[['publisher', 'title']]\n",
    "\n",
    "# Convert text column to lowercase\n",
    "df['title'] = df['title'].str.lower()\n",
    "df.head()[['publisher', 'title']]"
   ]
  },
  {
   "cell_type": "markdown",
   "metadata": {},
   "source": [
    "### Online Resource"
   ]
  },
  {
   "cell_type": "code",
   "execution_count": 3,
   "metadata": {
    "scrolled": true
   },
   "outputs": [
    {
     "name": "stdout",
     "output_type": "stream",
     "text": [
      "{\n",
      "    \"success\": {\n",
      "        \"total\": 1\n",
      "    },\n",
      "    \"contents\": {\n",
      "        \"quotes\": [\n",
      "            {\n",
      "                \"quote\": \"Failure is the condiment that gives success its flavor.\",\n",
      "                \"length\": \"55\",\n",
      "                \"author\": \"Truman Capote\",\n",
      "                \"tags\": [\n",
      "                    \"experience\",\n",
      "                    \"failure\",\n",
      "                    \"inspire\",\n",
      "                    \"metaphor\",\n",
      "                    \"success\",\n",
      "                    \"wisdom\"\n",
      "                ],\n",
      "                \"category\": \"inspire\",\n",
      "                \"language\": \"en\",\n",
      "                \"date\": \"2021-02-04\",\n",
      "                \"permalink\": \"https://theysaidso.com/quote/truman-capote-failure-is-the-condiment-that-gives-success-its-flavor\",\n",
      "                \"id\": \"Si1qt5lh21f47zFV_JuB9AeF\",\n",
      "                \"background\": \"https://theysaidso.com/img/qod/qod-inspire.jpg\",\n",
      "                \"title\": \"Inspiring Quote of the day\"\n",
      "            }\n",
      "        ]\n",
      "    },\n",
      "    \"baseurl\": \"https://theysaidso.com\",\n",
      "    \"copyright\": {\n",
      "        \"year\": 2023,\n",
      "        \"url\": \"https://theysaidso.com\"\n",
      "    }\n",
      "}\n",
      "Failure is the condiment that gives success its flavor. \n",
      "-- Truman Capote\n"
     ]
    }
   ],
   "source": [
    "import requests\n",
    "import json\n",
    "\n",
    "# Fetch data from a REST API\n",
    "r = requests.get(\n",
    "    \"https://quotes.rest/qod.json\")\n",
    "res = r.json()\n",
    "print(json.dumps(res, indent=4))\n",
    "\n",
    "# Extract relevant object and field\n",
    "q = res[\"contents\"][\"quotes\"][0]\n",
    "print(q[\"quote\"], \"\\n--\", q[\"author\"])"
   ]
  },
  {
   "cell_type": "markdown",
   "metadata": {},
   "source": [
    "## Cleaning"
   ]
  },
  {
   "cell_type": "code",
   "execution_count": 4,
   "metadata": {
    "scrolled": true
   },
   "outputs": [
    {
     "name": "stdout",
     "output_type": "stream",
     "text": [
      "<html lang=\"en\" op=\"news\"><head><meta name=\"referrer\" content=\"origin\"><meta name=\"viewport\" content=\"width=device-width, initial-scale=1.0\"><link rel=\"stylesheet\" type=\"text/css\" href=\"news.css?ydHYu4IIXEdBOAVVSN2c\">\n",
      "        <link rel=\"shortcut icon\" href=\"favicon.ico\">\n",
      "          <link rel=\"alternate\" type=\"application/rss+xml\" title=\"RSS\" href=\"rss\">\n",
      "        <title>Hacker News</title></head><body><center><table id=\"hnmain\" border=\"0\" cellpadding=\"0\" cellspacing=\"0\" width=\"85%\" bgcolor=\"#f6f6ef\">\n",
      "        <tr><td bgcolor=\"#ff6600\"><table border=\"0\" cellpadding=\"0\" cellspacing=\"0\" width=\"100%\" style=\"padding:2px\"><tr><td style=\"width:18px;padding-right:4px\"><a href=\"https://news.ycombinator.com\"><img src=\"y18.gif\" width=\"18\" height=\"18\" style=\"border:1px white solid;\"></a></td>\n",
      "                  <td style=\"line-height:12pt; height:10px;\"><span class=\"pagetop\"><b class=\"hnname\"><a href=\"news\">Hacker News</a></b>\n",
      "              <a href=\"newest\">new</a> | <a href=\"front\">past</a> | <a href=\"newcomments\">comments</a> | <a href=\"ask\">ask</a> | <a href=\"show\">show</a> | <a href=\"jobs\">jobs</a> | <a href=\"submit\">submit</a>            </span></td><td style=\"text-align:right;padding-right:4px;\"><span class=\"pagetop\">\n",
      "                              <a href=\"login?goto=news\">login</a>\n",
      "                          </span></td>\n",
      "              </tr></table></td></tr>\n",
      "<tr id=\"pagespace\" title=\"\" style=\"height:10px\"></tr><tr><td><table border=\"0\" cellpadding=\"0\" cellspacing=\"0\" class=\"itemlist\">\n",
      "              <tr class='athing' id='26026994'>\n",
      "      <td align=\"right\" valign=\"top\" class=\"title\"><span class=\"rank\">1.</span></td>      <td valign=\"top\" class=\"votelinks\"><center><a id='up_26026994' href='vote?id=26026994&amp;how=up&amp;goto=news'><div class='votearrow' title='upvote'></div></a></center></td><td class=\"title\"><a href=\"https://signal.org/blog/help-iran-reconnect/\" class=\"storylink\">Help users in Iran reconnect to Signal</a><span class=\"sitebit comhead\"> (<a href=\"from?site=signal.org\"><span class=\"sitestr\">signal.org</span></a>)</span></td></tr><tr><td colspan=\"2\"></td><td class=\"subtext\">\n",
      "        <span class=\"score\" id=\"score_26026994\">250 points</span> by <a href=\"user?id=arkadiyt\" class=\"hnuser\">arkadiyt</a> <span class=\"age\"><a href=\"item?id=26026994\">1 hour ago</a></span> <span id=\"unv_26026994\"></span> | <a href=\"hide?id=26026994&amp;goto=news\">hide</a> | <a href=\"item?id=26026994\">61&nbsp;comments</a>              </td></tr>\n",
      "      <tr class=\"spacer\" style=\"height:5px\"></tr>\n",
      "                <tr class='athing' id='26026896'>\n",
      "      <td align=\"right\" valign=\"top\" class=\"title\"><span class=\"rank\">2.</span></td>      <td valign=\"top\" class=\"votelinks\"><center><a id='up_26026896' href='vote?id=26026896&amp;how=up&amp;goto=news'><div class='votearrow' title='upvote'></div></a></center></td><td class=\"title\"><a href=\"https://github.com/progrium/macdriver\" class=\"storylink\">Native Mac APIs for Go</a><span class=\"sitebit comhead\"> (<a href=\"from?site=github.com/progrium\"><span class=\"sitestr\">github.com/progrium</span></a>)</span></td></tr><tr><td colspan=\"2\"></td><td class=\"subtext\">\n",
      "        <span class=\"score\" id=\"score_26026896\">115 points</span> by <a href=\"user?id=maydemir\" class=\"hnuser\">maydemir</a> <span class=\"age\"><a href=\"item?id=26026896\">1 hour ago</a></span> <span id=\"unv_26026896\"></span> | <a href=\"hide?id=26026896&amp;goto=news\">hide</a> | <a href=\"item?id=26026896\">17&nbsp;comments</a>              </td></tr>\n",
      "      <tr class=\"spacer\" style=\"height:5px\"></tr>\n",
      "                <tr class='athing' id='26026309'>\n",
      "      <td align=\"right\" valign=\"top\" class=\"title\"><span class=\"rank\">3.</span></td>      <td valign=\"top\" class=\"votelinks\"><center><a id='up_26026309' href='vote?id=26026309&amp;how=up&amp;goto=news'><div class='votearrow' title='upvote'></div></a></center></td><td class=\"title\"><a href=\"https://github.com/rust-analyzer/rust-analyzer/blob/master/docs/dev/architecture.md\" class=\"storylink\">Rust-Analyzer Architecture</a><span class=\"sitebit comhead\"> (<a href=\"from?site=github.com/rust-analyzer\"><span class=\"sitestr\">github.com/rust-analyzer</span></a>)</span></td></tr><tr><td colspan=\"2\"></td><td class=\"subtext\">\n",
      "        <span class=\"score\" id=\"score_26026309\">124 points</span> by <a href=\"user?id=ibraheemdev\" class=\"hnuser\">ibraheemdev</a> <span class=\"age\"><a href=\"item?id=26026309\">2 hours ago</a></span> <span id=\"unv_26026309\"></span> | <a href=\"hide?id=26026309&amp;goto=news\">hide</a> | <a href=\"item?id=26026309\">20&nbsp;comments</a>              </td></tr>\n",
      "      <tr class=\"spacer\" style=\"height:5px\"></tr>\n",
      "                <tr class='athing' id='26024768'>\n",
      "      <td align=\"right\" valign=\"top\" class=\"title\"><span class=\"rank\">4.</span></td>      <td valign=\"top\" class=\"votelinks\"><center><a id='up_26024768' href='vote?id=26024768&amp;how=up&amp;goto=news'><div class='votearrow' title='upvote'></div></a></center></td><td class=\"title\"><a href=\"https://www.reuters.com/article/us-usa-mckinsey-idUSKBN2A405Q\" class=\"storylink\">McKinsey to pay $573M to settle claims over opioid crisis role: source</a><span class=\"sitebit comhead\"> (<a href=\"from?site=reuters.com\"><span class=\"sitestr\">reuters.com</span></a>)</span></td></tr><tr><td colspan=\"2\"></td><td class=\"subtext\">\n",
      "        <span class=\"score\" id=\"score_26024768\">309 points</span> by <a href=\"user?id=onetimemanytime\" class=\"hnuser\">onetimemanytime</a> <span class=\"age\"><a href=\"item?id=26024768\">5 hours ago</a></span> <span id=\"unv_26024768\"></span> | <a href=\"hide?id=26024768&amp;goto=news\">hide</a> | <a href=\"item?id=26024768\">259&nbsp;comments</a>              </td></tr>\n",
      "      <tr class=\"spacer\" style=\"height:5px\"></tr>\n",
      "                <tr class='athing' id='26025742'>\n",
      "      <td align=\"right\" valign=\"top\" class=\"title\"><span class=\"rank\">5.</span></td>      <td valign=\"top\" class=\"votelinks\"><center><a id='up_26025742' href='vote?id=26025742&amp;how=up&amp;goto=news'><div class='votearrow' title='upvote'></div></a></center></td><td class=\"title\"><a href=\"https://godotshaders.com/\" class=\"storylink\">Godot Shaders: View and Share Shaders for Godot</a><span class=\"sitebit comhead\"> (<a href=\"from?site=godotshaders.com\"><span class=\"sitestr\">godotshaders.com</span></a>)</span></td></tr><tr><td colspan=\"2\"></td><td class=\"subtext\">\n",
      "        <span class=\"score\" id=\"score_26025742\">76 points</span> by <a href=\"user?id=bananaoomarang\" class=\"hnuser\">bananaoomarang</a> <span class=\"age\"><a href=\"item?id=26025742\">3 hours ago</a></span> <span id=\"unv_26025742\"></span> | <a href=\"hide?id=26025742&amp;goto=news\">hide</a> | <a href=\"item?id=26025742\">12&nbsp;comments</a>              </td></tr>\n",
      "      <tr class=\"spacer\" style=\"height:5px\"></tr>\n",
      "                <tr class='athing' id='26024049'>\n",
      "      <td align=\"right\" valign=\"top\" class=\"title\"><span class=\"rank\">6.</span></td>      <td valign=\"top\" class=\"votelinks\"><center><a id='up_26024049' href='vote?id=26024049&amp;how=up&amp;goto=news'><div class='votearrow' title='upvote'></div></a></center></td><td class=\"title\"><a href=\"https://github.com/filipsPL/cat-localizer\" class=\"storylink\">Localize your cat at home with BLE beacon, ESP32s, and Machine Learning</a><span class=\"sitebit comhead\"> (<a href=\"from?site=github.com/filipspl\"><span class=\"sitestr\">github.com/filipspl</span></a>)</span></td></tr><tr><td colspan=\"2\"></td><td class=\"subtext\">\n",
      "        <span class=\"score\" id=\"score_26024049\">98 points</span> by <a href=\"user?id=lormayna\" class=\"hnuser\">lormayna</a> <span class=\"age\"><a href=\"item?id=26024049\">3 hours ago</a></span> <span id=\"unv_26024049\"></span> | <a href=\"hide?id=26024049&amp;goto=news\">hide</a> | <a href=\"item?id=26024049\">64&nbsp;comments</a>              </td></tr>\n",
      "      <tr class=\"spacer\" style=\"height:5px\"></tr>\n",
      "                <tr class='athing' id='26012459'>\n",
      "      <td align=\"right\" valign=\"top\" class=\"title\"><span class=\"rank\">7.</span></td>      <td valign=\"top\" class=\"votelinks\"><center><a id='up_26012459' href='vote?id=26012459&amp;how=up&amp;goto=news'><div class='votearrow' title='upvote'></div></a></center></td><td class=\"title\"><a href=\"http://calpaterson.com/latency.html\" class=\"storylink\">Where's the fastest place to put my server? How much does it matter?</a><span class=\"sitebit comhead\"> (<a href=\"from?site=calpaterson.com\"><span class=\"sitestr\">calpaterson.com</span></a>)</span></td></tr><tr><td colspan=\"2\"></td><td class=\"subtext\">\n",
      "        <span class=\"score\" id=\"score_26012459\">20 points</span> by <a href=\"user?id=todsacerdoti\" class=\"hnuser\">todsacerdoti</a> <span class=\"age\"><a href=\"item?id=26012459\">1 hour ago</a></span> <span id=\"unv_26012459\"></span> | <a href=\"hide?id=26012459&amp;goto=news\">hide</a> | <a href=\"item?id=26012459\">4&nbsp;comments</a>              </td></tr>\n",
      "      <tr class=\"spacer\" style=\"height:5px\"></tr>\n",
      "                <tr class='athing' id='26024719'>\n",
      "      <td align=\"right\" valign=\"top\" class=\"title\"><span class=\"rank\">8.</span></td>      <td valign=\"top\" class=\"votelinks\"><center><a id='up_26024719' href='vote?id=26024719&amp;how=up&amp;goto=news'><div class='votearrow' title='upvote'></div></a></center></td><td class=\"title\"><a href=\"https://www.depesz.com/2021/02/04/waiting-for-postgresql-14-search-and-cycle-clauses/\" class=\"storylink\">Waiting for PostgreSQL 14 – SEARCH and CYCLE clauses</a><span class=\"sitebit comhead\"> (<a href=\"from?site=depesz.com\"><span class=\"sitestr\">depesz.com</span></a>)</span></td></tr><tr><td colspan=\"2\"></td><td class=\"subtext\">\n",
      "        <span class=\"score\" id=\"score_26024719\">208 points</span> by <a href=\"user?id=todsacerdoti\" class=\"hnuser\">todsacerdoti</a> <span class=\"age\"><a href=\"item?id=26024719\">6 hours ago</a></span> <span id=\"unv_26024719\"></span> | <a href=\"hide?id=26024719&amp;goto=news\">hide</a> | <a href=\"item?id=26024719\">31&nbsp;comments</a>              </td></tr>\n",
      "      <tr class=\"spacer\" style=\"height:5px\"></tr>\n",
      "                <tr class='athing' id='26027239'>\n",
      "      <td align=\"right\" valign=\"top\" class=\"title\"><span class=\"rank\">9.</span></td>      <td></td><td class=\"title\"><a href=\"https://www.workatastartup.com/jobs/1084\" class=\"storylink\" rel=\"nofollow\">PocketSuite (YC W16) Is Hiring Our Fourth Lead Engineer (Remote)</a><span class=\"sitebit comhead\"> (<a href=\"from?site=workatastartup.com\"><span class=\"sitestr\">workatastartup.com</span></a>)</span></td></tr><tr><td colspan=\"2\"></td><td class=\"subtext\">\n",
      "        <span class=\"age\"><a href=\"item?id=26027239\">1 hour ago</a></span> | <a href=\"hide?id=26027239&amp;goto=news\">hide</a>      </td></tr>\n",
      "      <tr class=\"spacer\" style=\"height:5px\"></tr>\n",
      "                <tr class='athing' id='26024917'>\n",
      "      <td align=\"right\" valign=\"top\" class=\"title\"><span class=\"rank\">10.</span></td>      <td valign=\"top\" class=\"votelinks\"><center><a id='up_26024917' href='vote?id=26024917&amp;how=up&amp;goto=news'><div class='votearrow' title='upvote'></div></a></center></td><td class=\"title\"><a href=\"https://cloud.google.com/blog/products/infrastructure/googles-dunant-subsea-cable-is-now-ready-for-service\" class=\"storylink\">Newly Active 250Tbps Subsea Cable – The Google Cloud Dunant Cable</a><span class=\"sitebit comhead\"> (<a href=\"from?site=cloud.google.com\"><span class=\"sitestr\">cloud.google.com</span></a>)</span></td></tr><tr><td colspan=\"2\"></td><td class=\"subtext\">\n",
      "        <span class=\"score\" id=\"score_26024917\">169 points</span> by <a href=\"user?id=johannesboyne\" class=\"hnuser\">johannesboyne</a> <span class=\"age\"><a href=\"item?id=26024917\">5 hours ago</a></span> <span id=\"unv_26024917\"></span> | <a href=\"hide?id=26024917&amp;goto=news\">hide</a> | <a href=\"item?id=26024917\">163&nbsp;comments</a>              </td></tr>\n",
      "      <tr class=\"spacer\" style=\"height:5px\"></tr>\n",
      "                <tr class='athing' id='26026949'>\n",
      "      <td align=\"right\" valign=\"top\" class=\"title\"><span class=\"rank\">11.</span></td>      <td valign=\"top\" class=\"votelinks\"><center><a id='up_26026949' href='vote?id=26026949&amp;how=up&amp;goto=news'><div class='votearrow' title='upvote'></div></a></center></td><td class=\"title\"><a href=\"https://humanloop.com/blog/why-you-should-be-using-active-learning/\" class=\"storylink\">A better way to build ML: Why you should be using Active Learning</a><span class=\"sitebit comhead\"> (<a href=\"from?site=humanloop.com\"><span class=\"sitestr\">humanloop.com</span></a>)</span></td></tr><tr><td colspan=\"2\"></td><td class=\"subtext\">\n",
      "        <span class=\"score\" id=\"score_26026949\">23 points</span> by <a href=\"user?id=razcle\" class=\"hnuser\">razcle</a> <span class=\"age\"><a href=\"item?id=26026949\">1 hour ago</a></span> <span id=\"unv_26026949\"></span> | <a href=\"hide?id=26026949&amp;goto=news\">hide</a> | <a href=\"item?id=26026949\">10&nbsp;comments</a>              </td></tr>\n",
      "      <tr class=\"spacer\" style=\"height:5px\"></tr>\n",
      "                <tr class='athing' id='26026526'>\n",
      "      <td align=\"right\" valign=\"top\" class=\"title\"><span class=\"rank\">12.</span></td>      <td valign=\"top\" class=\"votelinks\"><center><a id='up_26026526' href='vote?id=26026526&amp;how=up&amp;goto=news'><div class='votearrow' title='upvote'></div></a></center></td><td class=\"title\"><a href=\"item?id=26026526\" class=\"storylink\">Launch HN: Tint (YC W21) – Embed insurance into any product</a></td></tr><tr><td colspan=\"2\"></td><td class=\"subtext\">\n",
      "        <span class=\"score\" id=\"score_26026526\">49 points</span> by <a href=\"user?id=mriolfi\" class=\"hnuser\">mriolfi</a> <span class=\"age\"><a href=\"item?id=26026526\">1 hour ago</a></span> <span id=\"unv_26026526\"></span> | <a href=\"hide?id=26026526&amp;goto=news\">hide</a> | <a href=\"item?id=26026526\">10&nbsp;comments</a>              </td></tr>\n",
      "      <tr class=\"spacer\" style=\"height:5px\"></tr>\n",
      "                <tr class='athing' id='26025339'>\n",
      "      <td align=\"right\" valign=\"top\" class=\"title\"><span class=\"rank\">13.</span></td>      <td valign=\"top\" class=\"votelinks\"><center><a id='up_26025339' href='vote?id=26025339&amp;how=up&amp;goto=news'><div class='votearrow' title='upvote'></div></a></center></td><td class=\"title\"><a href=\"http://www.geofcrowl.com/blog/articles/2020/2/17/collection-higs/\" class=\"storylink\">Collection of Human Interface and Software Design Guides</a><span class=\"sitebit comhead\"> (<a href=\"from?site=geofcrowl.com\"><span class=\"sitestr\">geofcrowl.com</span></a>)</span></td></tr><tr><td colspan=\"2\"></td><td class=\"subtext\">\n",
      "        <span class=\"score\" id=\"score_26025339\">66 points</span> by <a href=\"user?id=ingve\" class=\"hnuser\">ingve</a> <span class=\"age\"><a href=\"item?id=26025339\">4 hours ago</a></span> <span id=\"unv_26025339\"></span> | <a href=\"hide?id=26025339&amp;goto=news\">hide</a> | <a href=\"item?id=26025339\">3&nbsp;comments</a>              </td></tr>\n",
      "      <tr class=\"spacer\" style=\"height:5px\"></tr>\n",
      "                <tr class='athing' id='26026182'>\n",
      "      <td align=\"right\" valign=\"top\" class=\"title\"><span class=\"rank\">14.</span></td>      <td valign=\"top\" class=\"votelinks\"><center><a id='up_26026182' href='vote?id=26026182&amp;how=up&amp;goto=news'><div class='votearrow' title='upvote'></div></a></center></td><td class=\"title\"><a href=\"http://www.theorangeduck.com/page/machine-learning-kolmogorov-complexity-squishy-bunnies\" class=\"storylink\">Machine Learning, Kolmogorov Complexity, and Squishy Bunnies (2019)</a><span class=\"sitebit comhead\"> (<a href=\"from?site=theorangeduck.com\"><span class=\"sitestr\">theorangeduck.com</span></a>)</span></td></tr><tr><td colspan=\"2\"></td><td class=\"subtext\">\n",
      "        <span class=\"score\" id=\"score_26026182\">36 points</span> by <a href=\"user?id=coolvision\" class=\"hnuser\">coolvision</a> <span class=\"age\"><a href=\"item?id=26026182\">2 hours ago</a></span> <span id=\"unv_26026182\"></span> | <a href=\"hide?id=26026182&amp;goto=news\">hide</a> | <a href=\"item?id=26026182\">5&nbsp;comments</a>              </td></tr>\n",
      "      <tr class=\"spacer\" style=\"height:5px\"></tr>\n",
      "                <tr class='athing' id='26025265'>\n",
      "      <td align=\"right\" valign=\"top\" class=\"title\"><span class=\"rank\">15.</span></td>      <td valign=\"top\" class=\"votelinks\"><center><a id='up_26025265' href='vote?id=26025265&amp;how=up&amp;goto=news'><div class='votearrow' title='upvote'></div></a></center></td><td class=\"title\"><a href=\"https://weavejl.mpastell.com/stable/\" class=\"storylink\">Weave.jl – Scientific Reports Using Julia</a><span class=\"sitebit comhead\"> (<a href=\"from?site=mpastell.com\"><span class=\"sitestr\">mpastell.com</span></a>)</span></td></tr><tr><td colspan=\"2\"></td><td class=\"subtext\">\n",
      "        <span class=\"score\" id=\"score_26025265\">87 points</span> by <a href=\"user?id=phillc73\" class=\"hnuser\">phillc73</a> <span class=\"age\"><a href=\"item?id=26025265\">4 hours ago</a></span> <span id=\"unv_26025265\"></span> | <a href=\"hide?id=26025265&amp;goto=news\">hide</a> | <a href=\"item?id=26025265\">9&nbsp;comments</a>              </td></tr>\n",
      "      <tr class=\"spacer\" style=\"height:5px\"></tr>\n",
      "                <tr class='athing' id='26012189'>\n",
      "      <td align=\"right\" valign=\"top\" class=\"title\"><span class=\"rank\">16.</span></td>      <td valign=\"top\" class=\"votelinks\"><center><a id='up_26012189' href='vote?id=26012189&amp;how=up&amp;goto=news'><div class='votearrow' title='upvote'></div></a></center></td><td class=\"title\"><a href=\"https://herman.bearblog.dev/my-product-is-my-garden/\" class=\"storylink\">My product is my garden</a><span class=\"sitebit comhead\"> (<a href=\"from?site=bearblog.dev\"><span class=\"sitestr\">bearblog.dev</span></a>)</span></td></tr><tr><td colspan=\"2\"></td><td class=\"subtext\">\n",
      "        <span class=\"score\" id=\"score_26012189\">614 points</span> by <a href=\"user?id=square_usual\" class=\"hnuser\">square_usual</a> <span class=\"age\"><a href=\"item?id=26012189\">13 hours ago</a></span> <span id=\"unv_26012189\"></span> | <a href=\"hide?id=26012189&amp;goto=news\">hide</a> | <a href=\"item?id=26012189\">129&nbsp;comments</a>              </td></tr>\n",
      "      <tr class=\"spacer\" style=\"height:5px\"></tr>\n",
      "                <tr class='athing' id='26024482'>\n",
      "      <td align=\"right\" valign=\"top\" class=\"title\"><span class=\"rank\">17.</span></td>      <td valign=\"top\" class=\"votelinks\"><center><a id='up_26024482' href='vote?id=26024482&amp;how=up&amp;goto=news'><div class='votearrow' title='upvote'></div></a></center></td><td class=\"title\"><a href=\"https://github.com/Hirrolot/datatype99\" class=\"storylink\">Datatype99: C99 with Sum Types, v0.1.0</a><span class=\"sitebit comhead\"> (<a href=\"from?site=github.com/hirrolot\"><span class=\"sitestr\">github.com/hirrolot</span></a>)</span></td></tr><tr><td colspan=\"2\"></td><td class=\"subtext\">\n",
      "        <span class=\"score\" id=\"score_26024482\">131 points</span> by <a href=\"user?id=Hirrolot\" class=\"hnuser\">Hirrolot</a> <span class=\"age\"><a href=\"item?id=26024482\">6 hours ago</a></span> <span id=\"unv_26024482\"></span> | <a href=\"hide?id=26024482&amp;goto=news\">hide</a> | <a href=\"item?id=26024482\">47&nbsp;comments</a>              </td></tr>\n",
      "      <tr class=\"spacer\" style=\"height:5px\"></tr>\n",
      "                <tr class='athing' id='26026789'>\n",
      "      <td align=\"right\" valign=\"top\" class=\"title\"><span class=\"rank\">18.</span></td>      <td valign=\"top\" class=\"votelinks\"><center><a id='up_26026789' href='vote?id=26026789&amp;how=up&amp;goto=news'><div class='votearrow' title='upvote'></div></a></center></td><td class=\"title\"><a href=\"https://senseable.mit.edu/desirable-streets/\" class=\"storylink\">Desirable Streets – where do people prefer to walk?</a><span class=\"sitebit comhead\"> (<a href=\"from?site=senseable.mit.edu\"><span class=\"sitestr\">senseable.mit.edu</span></a>)</span></td></tr><tr><td colspan=\"2\"></td><td class=\"subtext\">\n",
      "        <span class=\"score\" id=\"score_26026789\">29 points</span> by <a href=\"user?id=sebg\" class=\"hnuser\">sebg</a> <span class=\"age\"><a href=\"item?id=26026789\">1 hour ago</a></span> <span id=\"unv_26026789\"></span> | <a href=\"hide?id=26026789&amp;goto=news\">hide</a> | <a href=\"item?id=26026789\">11&nbsp;comments</a>              </td></tr>\n",
      "      <tr class=\"spacer\" style=\"height:5px\"></tr>\n",
      "                <tr class='athing' id='26012814'>\n",
      "      <td align=\"right\" valign=\"top\" class=\"title\"><span class=\"rank\">19.</span></td>      <td valign=\"top\" class=\"votelinks\"><center><a id='up_26012814' href='vote?id=26012814&amp;how=up&amp;goto=news'><div class='votearrow' title='upvote'></div></a></center></td><td class=\"title\"><a href=\"https://nautil.us/issue/95/escape/want-to-get-out-alive-follow-the-ants-rpr\" class=\"storylink\">Want to Get Out Alive? Follow the Ants</a><span class=\"sitebit comhead\"> (<a href=\"from?site=nautil.us\"><span class=\"sitestr\">nautil.us</span></a>)</span></td></tr><tr><td colspan=\"2\"></td><td class=\"subtext\">\n",
      "        <span class=\"score\" id=\"score_26012814\">32 points</span> by <a href=\"user?id=dnetesn\" class=\"hnuser\">dnetesn</a> <span class=\"age\"><a href=\"item?id=26012814\">3 hours ago</a></span> <span id=\"unv_26012814\"></span> | <a href=\"hide?id=26012814&amp;goto=news\">hide</a> | <a href=\"item?id=26012814\">17&nbsp;comments</a>              </td></tr>\n",
      "      <tr class=\"spacer\" style=\"height:5px\"></tr>\n",
      "                <tr class='athing' id='26027448'>\n",
      "      <td align=\"right\" valign=\"top\" class=\"title\"><span class=\"rank\">20.</span></td>      <td valign=\"top\" class=\"votelinks\"><center><a id='up_26027448' href='vote?id=26027448&amp;how=up&amp;goto=news'><div class='votearrow' title='upvote'></div></a></center></td><td class=\"title\"><a href=\"https://hiringengineersbook.com/post/autonomy\" class=\"storylink\">Source Code Is Worthless</a><span class=\"sitebit comhead\"> (<a href=\"from?site=hiringengineersbook.com\"><span class=\"sitestr\">hiringengineersbook.com</span></a>)</span></td></tr><tr><td colspan=\"2\"></td><td class=\"subtext\">\n",
      "        <span class=\"score\" id=\"score_26027448\">52 points</span> by <a href=\"user?id=cloogshicer\" class=\"hnuser\">cloogshicer</a> <span class=\"age\"><a href=\"item?id=26027448\">59 minutes ago</a></span> <span id=\"unv_26027448\"></span> | <a href=\"hide?id=26027448&amp;goto=news\">hide</a> | <a href=\"item?id=26027448\">47&nbsp;comments</a>              </td></tr>\n",
      "      <tr class=\"spacer\" style=\"height:5px\"></tr>\n",
      "                <tr class='athing' id='26017889'>\n",
      "      <td align=\"right\" valign=\"top\" class=\"title\"><span class=\"rank\">21.</span></td>      <td valign=\"top\" class=\"votelinks\"><center><a id='up_26017889' href='vote?id=26017889&amp;how=up&amp;goto=news'><div class='votearrow' title='upvote'></div></a></center></td><td class=\"title\"><a href=\"https://www.scientificamerican.com/article/how-the-brain-responds-to-beauty/\" class=\"storylink\">How the Brain Responds to Beauty</a><span class=\"sitebit comhead\"> (<a href=\"from?site=scientificamerican.com\"><span class=\"sitestr\">scientificamerican.com</span></a>)</span></td></tr><tr><td colspan=\"2\"></td><td class=\"subtext\">\n",
      "        <span class=\"score\" id=\"score_26017889\">23 points</span> by <a href=\"user?id=apollinaire\" class=\"hnuser\">apollinaire</a> <span class=\"age\"><a href=\"item?id=26017889\">2 hours ago</a></span> <span id=\"unv_26017889\"></span> | <a href=\"hide?id=26017889&amp;goto=news\">hide</a> | <a href=\"item?id=26017889\">2&nbsp;comments</a>              </td></tr>\n",
      "      <tr class=\"spacer\" style=\"height:5px\"></tr>\n",
      "                <tr class='athing' id='26024316'>\n",
      "      <td align=\"right\" valign=\"top\" class=\"title\"><span class=\"rank\">22.</span></td>      <td valign=\"top\" class=\"votelinks\"><center><a id='up_26024316' href='vote?id=26024316&amp;how=up&amp;goto=news'><div class='votearrow' title='upvote'></div></a></center></td><td class=\"title\"><a href=\"https://github.com/FD-/RPiPlay\" class=\"storylink\">An open-source AirPlay mirroring server for the Raspberry Pi</a><span class=\"sitebit comhead\"> (<a href=\"from?site=github.com/fd-\"><span class=\"sitestr\">github.com/fd-</span></a>)</span></td></tr><tr><td colspan=\"2\"></td><td class=\"subtext\">\n",
      "        <span class=\"score\" id=\"score_26024316\">139 points</span> by <a href=\"user?id=chetangoti\" class=\"hnuser\">chetangoti</a> <span class=\"age\"><a href=\"item?id=26024316\">7 hours ago</a></span> <span id=\"unv_26024316\"></span> | <a href=\"hide?id=26024316&amp;goto=news\">hide</a> | <a href=\"item?id=26024316\">49&nbsp;comments</a>              </td></tr>\n",
      "      <tr class=\"spacer\" style=\"height:5px\"></tr>\n",
      "                <tr class='athing' id='26024589'>\n",
      "      <td align=\"right\" valign=\"top\" class=\"title\"><span class=\"rank\">23.</span></td>      <td valign=\"top\" class=\"votelinks\"><center><a id='up_26024589' href='vote?id=26024589&amp;how=up&amp;goto=news'><div class='votearrow' title='upvote'></div></a></center></td><td class=\"title\"><a href=\"https://www.quantamagazine.org/metamorphic-proteins-change-their-folds-for-different-jobs-20210203/\" class=\"storylink\">Some Proteins Change Their Folds to Perform Different Jobs</a><span class=\"sitebit comhead\"> (<a href=\"from?site=quantamagazine.org\"><span class=\"sitestr\">quantamagazine.org</span></a>)</span></td></tr><tr><td colspan=\"2\"></td><td class=\"subtext\">\n",
      "        <span class=\"score\" id=\"score_26024589\">65 points</span> by <a href=\"user?id=pseudolus\" class=\"hnuser\">pseudolus</a> <span class=\"age\"><a href=\"item?id=26024589\">6 hours ago</a></span> <span id=\"unv_26024589\"></span> | <a href=\"hide?id=26024589&amp;goto=news\">hide</a> | <a href=\"item?id=26024589\">34&nbsp;comments</a>              </td></tr>\n",
      "      <tr class=\"spacer\" style=\"height:5px\"></tr>\n",
      "                <tr class='athing' id='26025053'>\n",
      "      <td align=\"right\" valign=\"top\" class=\"title\"><span class=\"rank\">24.</span></td>      <td valign=\"top\" class=\"votelinks\"><center><a id='up_26025053' href='vote?id=26025053&amp;how=up&amp;goto=news'><div class='votearrow' title='upvote'></div></a></center></td><td class=\"title\"><a href=\"https://nical.github.io/posts/etagere.html\" class=\"storylink\">Improving texture atlas allocation in WebRender</a><span class=\"sitebit comhead\"> (<a href=\"from?site=nical.github.io\"><span class=\"sitestr\">nical.github.io</span></a>)</span></td></tr><tr><td colspan=\"2\"></td><td class=\"subtext\">\n",
      "        <span class=\"score\" id=\"score_26025053\">45 points</span> by <a href=\"user?id=todsacerdoti\" class=\"hnuser\">todsacerdoti</a> <span class=\"age\"><a href=\"item?id=26025053\">5 hours ago</a></span> <span id=\"unv_26025053\"></span> | <a href=\"hide?id=26025053&amp;goto=news\">hide</a> | <a href=\"item?id=26025053\">discuss</a>              </td></tr>\n",
      "      <tr class=\"spacer\" style=\"height:5px\"></tr>\n",
      "                <tr class='athing' id='26024085'>\n",
      "      <td align=\"right\" valign=\"top\" class=\"title\"><span class=\"rank\">25.</span></td>      <td valign=\"top\" class=\"votelinks\"><center><a id='up_26024085' href='vote?id=26024085&amp;how=up&amp;goto=news'><div class='votearrow' title='upvote'></div></a></center></td><td class=\"title\"><a href=\"https://www.haskellforall.com/2021/01/the-visitor-pattern-is-essentially-same.html\" class=\"storylink\">The visitor pattern is essentially the same thing as Church encoding</a><span class=\"sitebit comhead\"> (<a href=\"from?site=haskellforall.com\"><span class=\"sitestr\">haskellforall.com</span></a>)</span></td></tr><tr><td colspan=\"2\"></td><td class=\"subtext\">\n",
      "        <span class=\"score\" id=\"score_26024085\">151 points</span> by <a href=\"user?id=lelf\" class=\"hnuser\">lelf</a> <span class=\"age\"><a href=\"item?id=26024085\">8 hours ago</a></span> <span id=\"unv_26024085\"></span> | <a href=\"hide?id=26024085&amp;goto=news\">hide</a> | <a href=\"item?id=26024085\">75&nbsp;comments</a>              </td></tr>\n",
      "      <tr class=\"spacer\" style=\"height:5px\"></tr>\n",
      "                <tr class='athing' id='26024541'>\n",
      "      <td align=\"right\" valign=\"top\" class=\"title\"><span class=\"rank\">26.</span></td>      <td valign=\"top\" class=\"votelinks\"><center><a id='up_26024541' href='vote?id=26024541&amp;how=up&amp;goto=news'><div class='votearrow' title='upvote'></div></a></center></td><td class=\"title\"><a href=\"https://github.com/hiroppy/fusuma\" class=\"storylink\">A tool to create slides using Markdown easily for you</a><span class=\"sitebit comhead\"> (<a href=\"from?site=github.com/hiroppy\"><span class=\"sitestr\">github.com/hiroppy</span></a>)</span></td></tr><tr><td colspan=\"2\"></td><td class=\"subtext\">\n",
      "        <span class=\"score\" id=\"score_26024541\">84 points</span> by <a href=\"user?id=hiroppy\" class=\"hnuser\">hiroppy</a> <span class=\"age\"><a href=\"item?id=26024541\">6 hours ago</a></span> <span id=\"unv_26024541\"></span> | <a href=\"hide?id=26024541&amp;goto=news\">hide</a> | <a href=\"item?id=26024541\">31&nbsp;comments</a>              </td></tr>\n",
      "      <tr class=\"spacer\" style=\"height:5px\"></tr>\n",
      "                <tr class='athing' id='26023238'>\n",
      "      <td align=\"right\" valign=\"top\" class=\"title\"><span class=\"rank\">27.</span></td>      <td valign=\"top\" class=\"votelinks\"><center><a id='up_26023238' href='vote?id=26023238&amp;how=up&amp;goto=news'><div class='votearrow' title='upvote'></div></a></center></td><td class=\"title\"><a href=\"https://venturebeat.com/2021/01/26/stacker-lets-anyone-transform-spreadsheets-and-databases-into-web-apps/\" class=\"storylink\" rel=\"nofollow\">Stacker (YC S20) lets anyone transform spreadsheets and databases into web apps</a><span class=\"sitebit comhead\"> (<a href=\"from?site=venturebeat.com\"><span class=\"sitestr\">venturebeat.com</span></a>)</span></td></tr><tr><td colspan=\"2\"></td><td class=\"subtext\">\n",
      "        <span class=\"score\" id=\"score_26023238\">8 points</span> by <a href=\"user?id=davyson\" class=\"hnuser\">davyson</a> <span class=\"age\"><a href=\"item?id=26023238\">1 hour ago</a></span> <span id=\"unv_26023238\"></span> | <a href=\"hide?id=26023238&amp;goto=news\">hide</a> | <a href=\"item?id=26023238\">1&nbsp;comment</a>              </td></tr>\n",
      "      <tr class=\"spacer\" style=\"height:5px\"></tr>\n",
      "                <tr class='athing' id='26027288'>\n",
      "      <td align=\"right\" valign=\"top\" class=\"title\"><span class=\"rank\">28.</span></td>      <td valign=\"top\" class=\"votelinks\"><center><a id='up_26027288' href='vote?id=26027288&amp;how=up&amp;goto=news'><div class='votearrow' title='upvote'></div></a></center></td><td class=\"title\"><a href=\"https://www.fraunhofer.de/en/press/research-news/2021/february-2021/hydrogen-powered-drives-for-e-scooters.html\" class=\"storylink\" rel=\"nofollow\">Powerpaste, the hydrogen technology for small vehicles</a><span class=\"sitebit comhead\"> (<a href=\"from?site=fraunhofer.de\"><span class=\"sitestr\">fraunhofer.de</span></a>)</span></td></tr><tr><td colspan=\"2\"></td><td class=\"subtext\">\n",
      "        <span class=\"score\" id=\"score_26027288\">6 points</span> by <a href=\"user?id=apsec112\" class=\"hnuser\">apsec112</a> <span class=\"age\"><a href=\"item?id=26027288\">1 hour ago</a></span> <span id=\"unv_26027288\"></span> | <a href=\"hide?id=26027288&amp;goto=news\">hide</a> | <a href=\"item?id=26027288\">1&nbsp;comment</a>              </td></tr>\n",
      "      <tr class=\"spacer\" style=\"height:5px\"></tr>\n",
      "                <tr class='athing' id='26027063'>\n",
      "      <td align=\"right\" valign=\"top\" class=\"title\"><span class=\"rank\">29.</span></td>      <td valign=\"top\" class=\"votelinks\"><center><a id='up_26027063' href='vote?id=26027063&amp;how=up&amp;goto=news'><div class='votearrow' title='upvote'></div></a></center></td><td class=\"title\"><a href=\"https://www.ocamlpro.com/2021/02/02/2020-at-ocamlpro/\" class=\"storylink\" rel=\"nofollow\">2020 at OCamlPro</a><span class=\"sitebit comhead\"> (<a href=\"from?site=ocamlpro.com\"><span class=\"sitestr\">ocamlpro.com</span></a>)</span></td></tr><tr><td colspan=\"2\"></td><td class=\"subtext\">\n",
      "        <span class=\"score\" id=\"score_26027063\">4 points</span> by <a href=\"user?id=anuragsoni\" class=\"hnuser\">anuragsoni</a> <span class=\"age\"><a href=\"item?id=26027063\">1 hour ago</a></span> <span id=\"unv_26027063\"></span> | <a href=\"hide?id=26027063&amp;goto=news\">hide</a> | <a href=\"item?id=26027063\">discuss</a>              </td></tr>\n",
      "      <tr class=\"spacer\" style=\"height:5px\"></tr>\n",
      "                <tr class='athing' id='26025117'>\n",
      "      <td align=\"right\" valign=\"top\" class=\"title\"><span class=\"rank\">30.</span></td>      <td valign=\"top\" class=\"votelinks\"><center><a id='up_26025117' href='vote?id=26025117&amp;how=up&amp;goto=news'><div class='votearrow' title='upvote'></div></a></center></td><td class=\"title\"><a href=\"https://quuxplusone.github.io/blog/2019/02/28/is-int128-integral/\" class=\"storylink\">Is __int128 Integral? A Survey</a><span class=\"sitebit comhead\"> (<a href=\"from?site=quuxplusone.github.io\"><span class=\"sitestr\">quuxplusone.github.io</span></a>)</span></td></tr><tr><td colspan=\"2\"></td><td class=\"subtext\">\n",
      "        <span class=\"score\" id=\"score_26025117\">31 points</span> by <a href=\"user?id=ingve\" class=\"hnuser\">ingve</a> <span class=\"age\"><a href=\"item?id=26025117\">4 hours ago</a></span> <span id=\"unv_26025117\"></span> | <a href=\"hide?id=26025117&amp;goto=news\">hide</a> | <a href=\"item?id=26025117\">7&nbsp;comments</a>              </td></tr>\n",
      "      <tr class=\"spacer\" style=\"height:5px\"></tr>\n",
      "            <tr class=\"morespace\" style=\"height:10px\"></tr><tr><td colspan=\"2\"></td><td class=\"title\"><a href=\"news?p=2\" class=\"morelink\" rel=\"next\">More</a></td></tr>\n",
      "  </table>\n",
      "</td></tr>\n",
      "<tr><td><img src=\"s.gif\" height=\"10\" width=\"0\"><table width=\"100%\" cellspacing=\"0\" cellpadding=\"1\"><tr><td bgcolor=\"#ff6600\"></td></tr></table><br><center><span class=\"yclinks\"><a href=\"newsguidelines.html\">Guidelines</a>\n",
      "        | <a href=\"newsfaq.html\">FAQ</a>\n",
      "        | <a href=\"lists\">Lists</a>\n",
      "        | <a href=\"https://github.com/HackerNews/API\">API</a>\n",
      "        | <a href=\"security.html\">Security</a>\n",
      "        | <a href=\"http://www.ycombinator.com/legal/\">Legal</a>\n",
      "        | <a href=\"http://www.ycombinator.com/apply/\">Apply to YC</a>\n",
      "        | <a href=\"mailto:hn@ycombinator.com\">Contact</a></span><br><br><form method=\"get\" action=\"//hn.algolia.com/\">Search:\n",
      "          <input type=\"text\" name=\"q\" value=\"\" size=\"17\" autocorrect=\"off\" spellcheck=\"false\" autocapitalize=\"off\" autocomplete=\"false\"></form>\n",
      "            </center></td></tr>\n",
      "      </table></center></body><script type='text/javascript' src='hn.js?ydHYu4IIXEdBOAVVSN2c'></script></html>\n",
      "\n"
     ]
    }
   ],
   "source": [
    "import requests\n",
    "\n",
    "# Fetch a web page\n",
    "r = requests.get(\"https://news.ycombinator.com\")\n",
    "print(r.text)"
   ]
  },
  {
   "cell_type": "code",
   "execution_count": 5,
   "metadata": {},
   "outputs": [
    {
     "name": "stdout",
     "output_type": "stream",
     "text": [
      "\n",
      "        \n",
      "          \n",
      "        Hacker News\n",
      "        \n",
      "                  Hacker News\n",
      "              new | past | comments | ask | show | jobs | submit            \n",
      "                              login\n",
      "                          \n",
      "              \n",
      "\n",
      "              \n",
      "      1.      Help users in Iran reconnect to Signal (signal.org)\n",
      "        250 points by arkadiyt 1 hour ago  | hide | 61&nbsp;comments              \n",
      "      \n",
      "                \n",
      "      2.      Native Mac APIs for Go (github.com/progrium)\n",
      "        115 points by maydemir 1 hour ago  | hide | 17&nbsp;comments              \n",
      "      \n",
      "                \n",
      "      3.      Rust-Analyzer Architecture (github.com/rust-analyzer)\n",
      "        124 points by ibraheemdev 2 hours ago  | hide | 20&nbsp;comments              \n",
      "      \n",
      "                \n",
      "      4.      McKinsey to pay $573M to settle claims over opioid crisis role: source (reuters.com)\n",
      "        309 points by onetimemanytime 5 hours ago  | hide | 259&nbsp;comments              \n",
      "      \n",
      "                \n",
      "      5.      Godot Shaders: View and Share Shaders for Godot (godotshaders.com)\n",
      "        76 points by bananaoomarang 3 hours ago  | hide | 12&nbsp;comments              \n",
      "      \n",
      "                \n",
      "      6.      Localize your cat at home with BLE beacon, ESP32s, and Machine Learning (github.com/filipspl)\n",
      "        98 points by lormayna 3 hours ago  | hide | 64&nbsp;comments              \n",
      "      \n",
      "                \n",
      "      7.      Where's the fastest place to put my server? How much does it matter? (calpaterson.com)\n",
      "        20 points by todsacerdoti 1 hour ago  | hide | 4&nbsp;comments              \n",
      "      \n",
      "                \n",
      "      8.      Waiting for PostgreSQL 14 – SEARCH and CYCLE clauses (depesz.com)\n",
      "        208 points by todsacerdoti 6 hours ago  | hide | 31&nbsp;comments              \n",
      "      \n",
      "                \n",
      "      9.      PocketSuite (YC W16) Is Hiring Our Fourth Lead Engineer (Remote) (workatastartup.com)\n",
      "        1 hour ago | hide      \n",
      "      \n",
      "                \n",
      "      10.      Newly Active 250Tbps Subsea Cable – The Google Cloud Dunant Cable (cloud.google.com)\n",
      "        169 points by johannesboyne 5 hours ago  | hide | 163&nbsp;comments              \n",
      "      \n",
      "                \n",
      "      11.      A better way to build ML: Why you should be using Active Learning (humanloop.com)\n",
      "        23 points by razcle 1 hour ago  | hide | 10&nbsp;comments              \n",
      "      \n",
      "                \n",
      "      12.      Launch HN: Tint (YC W21) – Embed insurance into any product\n",
      "        49 points by mriolfi 1 hour ago  | hide | 10&nbsp;comments              \n",
      "      \n",
      "                \n",
      "      13.      Collection of Human Interface and Software Design Guides (geofcrowl.com)\n",
      "        66 points by ingve 4 hours ago  | hide | 3&nbsp;comments              \n",
      "      \n",
      "                \n",
      "      14.      Machine Learning, Kolmogorov Complexity, and Squishy Bunnies (2019) (theorangeduck.com)\n",
      "        36 points by coolvision 2 hours ago  | hide | 5&nbsp;comments              \n",
      "      \n",
      "                \n",
      "      15.      Weave.jl – Scientific Reports Using Julia (mpastell.com)\n",
      "        87 points by phillc73 4 hours ago  | hide | 9&nbsp;comments              \n",
      "      \n",
      "                \n",
      "      16.      My product is my garden (bearblog.dev)\n",
      "        614 points by square_usual 13 hours ago  | hide | 129&nbsp;comments              \n",
      "      \n",
      "                \n",
      "      17.      Datatype99: C99 with Sum Types, v0.1.0 (github.com/hirrolot)\n",
      "        131 points by Hirrolot 6 hours ago  | hide | 47&nbsp;comments              \n",
      "      \n",
      "                \n",
      "      18.      Desirable Streets – where do people prefer to walk? (senseable.mit.edu)\n",
      "        29 points by sebg 1 hour ago  | hide | 11&nbsp;comments              \n",
      "      \n",
      "                \n",
      "      19.      Want to Get Out Alive? Follow the Ants (nautil.us)\n",
      "        32 points by dnetesn 3 hours ago  | hide | 17&nbsp;comments              \n",
      "      \n",
      "                \n",
      "      20.      Source Code Is Worthless (hiringengineersbook.com)\n",
      "        52 points by cloogshicer 59 minutes ago  | hide | 47&nbsp;comments              \n",
      "      \n",
      "                \n",
      "      21.      How the Brain Responds to Beauty (scientificamerican.com)\n",
      "        23 points by apollinaire 2 hours ago  | hide | 2&nbsp;comments              \n",
      "      \n",
      "                \n",
      "      22.      An open-source AirPlay mirroring server for the Raspberry Pi (github.com/fd-)\n",
      "        139 points by chetangoti 7 hours ago  | hide | 49&nbsp;comments              \n",
      "      \n",
      "                \n",
      "      23.      Some Proteins Change Their Folds to Perform Different Jobs (quantamagazine.org)\n",
      "        65 points by pseudolus 6 hours ago  | hide | 34&nbsp;comments              \n",
      "      \n",
      "                \n",
      "      24.      Improving texture atlas allocation in WebRender (nical.github.io)\n",
      "        45 points by todsacerdoti 5 hours ago  | hide | discuss              \n",
      "      \n",
      "                \n",
      "      25.      The visitor pattern is essentially the same thing as Church encoding (haskellforall.com)\n",
      "        151 points by lelf 8 hours ago  | hide | 75&nbsp;comments              \n",
      "      \n",
      "                \n",
      "      26.      A tool to create slides using Markdown easily for you (github.com/hiroppy)\n",
      "        84 points by hiroppy 6 hours ago  | hide | 31&nbsp;comments              \n",
      "      \n",
      "                \n",
      "      27.      Stacker (YC S20) lets anyone transform spreadsheets and databases into web apps (venturebeat.com)\n",
      "        8 points by davyson 1 hour ago  | hide | 1&nbsp;comment              \n",
      "      \n",
      "                \n",
      "      28.      Powerpaste, the hydrogen technology for small vehicles (fraunhofer.de)\n",
      "        6 points by apsec112 1 hour ago  | hide | 1&nbsp;comment              \n",
      "      \n",
      "                \n",
      "      29.      2020 at OCamlPro (ocamlpro.com)\n",
      "        4 points by anuragsoni 1 hour ago  | hide | discuss              \n",
      "      \n",
      "                \n",
      "      30.      Is __int128 Integral? A Survey (quuxplusone.github.io)\n",
      "        31 points by ingve 4 hours ago  | hide | 7&nbsp;comments              \n",
      "      \n",
      "            More\n",
      "  \n",
      "\n",
      "Guidelines\n",
      "        | FAQ\n",
      "        | Lists\n",
      "        | API\n",
      "        | Security\n",
      "        | Legal\n",
      "        | Apply to YC\n",
      "        | ContactSearch:\n",
      "          \n",
      "            \n",
      "      \n",
      "\n"
     ]
    }
   ],
   "source": [
    "import re\n",
    "\n",
    "# Remove HTML tags using RegEx\n",
    "pattern = re.compile(r'<.*?>')  # tags look like <...>\n",
    "print(pattern.sub('', r.text))  # replace them with blank"
   ]
  },
  {
   "cell_type": "code",
   "execution_count": 6,
   "metadata": {},
   "outputs": [
    {
     "name": "stdout",
     "output_type": "stream",
     "text": [
      "\n",
      "        \n",
      "          \n",
      "        Hacker News\n",
      "        \n",
      "                  Hacker News\n",
      "              new | past | comments | ask | show | jobs | submit            \n",
      "                              login\n",
      "                          \n",
      "              \n",
      "\n",
      "              \n",
      "      1.      Help users in Iran reconnect to Signal (signal.org)\n",
      "        250 points by arkadiyt 1 hour ago  | hide | 61 comments              \n",
      "      \n",
      "                \n",
      "      2.      Native Mac APIs for Go (github.com/progrium)\n",
      "        115 points by maydemir 1 hour ago  | hide | 17 comments              \n",
      "      \n",
      "                \n",
      "      3.      Rust-Analyzer Architecture (github.com/rust-analyzer)\n",
      "        124 points by ibraheemdev 2 hours ago  | hide | 20 comments              \n",
      "      \n",
      "                \n",
      "      4.      McKinsey to pay $573M to settle claims over opioid crisis role: source (reuters.com)\n",
      "        309 points by onetimemanytime 5 hours ago  | hide | 259 comments              \n",
      "      \n",
      "                \n",
      "      5.      Godot Shaders: View and Share Shaders for Godot (godotshaders.com)\n",
      "        76 points by bananaoomarang 3 hours ago  | hide | 12 comments              \n",
      "      \n",
      "                \n",
      "      6.      Localize your cat at home with BLE beacon, ESP32s, and Machine Learning (github.com/filipspl)\n",
      "        98 points by lormayna 3 hours ago  | hide | 64 comments              \n",
      "      \n",
      "                \n",
      "      7.      Where's the fastest place to put my server? How much does it matter? (calpaterson.com)\n",
      "        20 points by todsacerdoti 1 hour ago  | hide | 4 comments              \n",
      "      \n",
      "                \n",
      "      8.      Waiting for PostgreSQL 14 – SEARCH and CYCLE clauses (depesz.com)\n",
      "        208 points by todsacerdoti 6 hours ago  | hide | 31 comments              \n",
      "      \n",
      "                \n",
      "      9.      PocketSuite (YC W16) Is Hiring Our Fourth Lead Engineer (Remote) (workatastartup.com)\n",
      "        1 hour ago | hide      \n",
      "      \n",
      "                \n",
      "      10.      Newly Active 250Tbps Subsea Cable – The Google Cloud Dunant Cable (cloud.google.com)\n",
      "        169 points by johannesboyne 5 hours ago  | hide | 163 comments              \n",
      "      \n",
      "                \n",
      "      11.      A better way to build ML: Why you should be using Active Learning (humanloop.com)\n",
      "        23 points by razcle 1 hour ago  | hide | 10 comments              \n",
      "      \n",
      "                \n",
      "      12.      Launch HN: Tint (YC W21) – Embed insurance into any product\n",
      "        49 points by mriolfi 1 hour ago  | hide | 10 comments              \n",
      "      \n",
      "                \n",
      "      13.      Collection of Human Interface and Software Design Guides (geofcrowl.com)\n",
      "        66 points by ingve 4 hours ago  | hide | 3 comments              \n",
      "      \n",
      "                \n",
      "      14.      Machine Learning, Kolmogorov Complexity, and Squishy Bunnies (2019) (theorangeduck.com)\n",
      "        36 points by coolvision 2 hours ago  | hide | 5 comments              \n",
      "      \n",
      "                \n",
      "      15.      Weave.jl – Scientific Reports Using Julia (mpastell.com)\n",
      "        87 points by phillc73 4 hours ago  | hide | 9 comments              \n",
      "      \n",
      "                \n",
      "      16.      My product is my garden (bearblog.dev)\n",
      "        614 points by square_usual 13 hours ago  | hide | 129 comments              \n",
      "      \n",
      "                \n",
      "      17.      Datatype99: C99 with Sum Types, v0.1.0 (github.com/hirrolot)\n",
      "        131 points by Hirrolot 6 hours ago  | hide | 47 comments              \n",
      "      \n",
      "                \n",
      "      18.      Desirable Streets – where do people prefer to walk? (senseable.mit.edu)\n",
      "        29 points by sebg 1 hour ago  | hide | 11 comments              \n",
      "      \n",
      "                \n",
      "      19.      Want to Get Out Alive? Follow the Ants (nautil.us)\n",
      "        32 points by dnetesn 3 hours ago  | hide | 17 comments              \n",
      "      \n",
      "                \n",
      "      20.      Source Code Is Worthless (hiringengineersbook.com)\n",
      "        52 points by cloogshicer 59 minutes ago  | hide | 47 comments              \n",
      "      \n",
      "                \n",
      "      21.      How the Brain Responds to Beauty (scientificamerican.com)\n",
      "        23 points by apollinaire 2 hours ago  | hide | 2 comments              \n",
      "      \n",
      "                \n",
      "      22.      An open-source AirPlay mirroring server for the Raspberry Pi (github.com/fd-)\n",
      "        139 points by chetangoti 7 hours ago  | hide | 49 comments              \n",
      "      \n",
      "                \n",
      "      23.      Some Proteins Change Their Folds to Perform Different Jobs (quantamagazine.org)\n",
      "        65 points by pseudolus 6 hours ago  | hide | 34 comments              \n",
      "      \n",
      "                \n",
      "      24.      Improving texture atlas allocation in WebRender (nical.github.io)\n",
      "        45 points by todsacerdoti 5 hours ago  | hide | discuss              \n",
      "      \n",
      "                \n",
      "      25.      The visitor pattern is essentially the same thing as Church encoding (haskellforall.com)\n",
      "        151 points by lelf 8 hours ago  | hide | 75 comments              \n",
      "      \n",
      "                \n",
      "      26.      A tool to create slides using Markdown easily for you (github.com/hiroppy)\n",
      "        84 points by hiroppy 6 hours ago  | hide | 31 comments              \n",
      "      \n",
      "                \n",
      "      27.      Stacker (YC S20) lets anyone transform spreadsheets and databases into web apps (venturebeat.com)\n",
      "        8 points by davyson 1 hour ago  | hide | 1 comment              \n",
      "      \n",
      "                \n",
      "      28.      Powerpaste, the hydrogen technology for small vehicles (fraunhofer.de)\n",
      "        6 points by apsec112 1 hour ago  | hide | 1 comment              \n",
      "      \n",
      "                \n",
      "      29.      2020 at OCamlPro (ocamlpro.com)\n",
      "        4 points by anuragsoni 1 hour ago  | hide | discuss              \n",
      "      \n",
      "                \n",
      "      30.      Is __int128 Integral? A Survey (quuxplusone.github.io)\n",
      "        31 points by ingve 4 hours ago  | hide | 7 comments              \n",
      "      \n",
      "            More\n",
      "  \n",
      "\n",
      "Guidelines\n",
      "        | FAQ\n",
      "        | Lists\n",
      "        | API\n",
      "        | Security\n",
      "        | Legal\n",
      "        | Apply to YC\n",
      "        | ContactSearch:\n",
      "          \n",
      "            \n",
      "      \n",
      "\n"
     ]
    }
   ],
   "source": [
    "from bs4 import BeautifulSoup\n",
    "\n",
    "# Remove HTML tags using Beautiful Soup library\n",
    "soup = BeautifulSoup(r.text, \"html5lib\")\n",
    "print(soup.get_text())"
   ]
  },
  {
   "cell_type": "code",
   "execution_count": 7,
   "metadata": {
    "scrolled": true
   },
   "outputs": [
    {
     "data": {
      "text/plain": [
       "<tr class=\"athing\" id=\"26026994\">\n",
       "      <td align=\"right\" class=\"title\" valign=\"top\"><span class=\"rank\">1.</span></td>      <td class=\"votelinks\" valign=\"top\"><center><a href=\"vote?id=26026994&amp;how=up&amp;goto=news\" id=\"up_26026994\"><div class=\"votearrow\" title=\"upvote\"></div></a></center></td><td class=\"title\"><a class=\"storylink\" href=\"https://signal.org/blog/help-iran-reconnect/\">Help users in Iran reconnect to Signal</a><span class=\"sitebit comhead\"> (<a href=\"from?site=signal.org\"><span class=\"sitestr\">signal.org</span></a>)</span></td></tr>"
      ]
     },
     "execution_count": 7,
     "metadata": {},
     "output_type": "execute_result"
    }
   ],
   "source": [
    "# Find all articles\n",
    "summaries = soup.find_all(\"tr\", class_=\"athing\")\n",
    "summaries[0]"
   ]
  },
  {
   "cell_type": "code",
   "execution_count": 8,
   "metadata": {},
   "outputs": [
    {
     "data": {
      "text/plain": [
       "'Help users in Iran reconnect to Signal'"
      ]
     },
     "execution_count": 8,
     "metadata": {},
     "output_type": "execute_result"
    }
   ],
   "source": [
    "# Extract title\n",
    "summaries[0].find(\"a\", class_=\"storylink\").get_text().strip()"
   ]
  },
  {
   "cell_type": "code",
   "execution_count": 9,
   "metadata": {},
   "outputs": [
    {
     "name": "stdout",
     "output_type": "stream",
     "text": [
      "30 Article summaries found. Sample:\n",
      "Help users in Iran reconnect to Signal\n"
     ]
    }
   ],
   "source": [
    "# Find all articles, extract titles\n",
    "articles = []\n",
    "summaries = soup.find_all(\"tr\", class_=\"athing\")\n",
    "for summary in summaries:\n",
    "    title = summary.find(\"a\", class_=\"storylink\").get_text().strip()\n",
    "    articles.append((title))\n",
    "\n",
    "print(len(articles), \"Article summaries found. Sample:\")\n",
    "print(articles[0])"
   ]
  },
  {
   "cell_type": "markdown",
   "metadata": {
    "collapsed": true
   },
   "source": [
    "## Normalization"
   ]
  },
  {
   "cell_type": "markdown",
   "metadata": {},
   "source": [
    "### Case Normalization"
   ]
  },
  {
   "cell_type": "code",
   "execution_count": 10,
   "metadata": {},
   "outputs": [
    {
     "name": "stdout",
     "output_type": "stream",
     "text": [
      "The first time you see The Second Renaissance it may look boring. Look at it at least twice and definitely watch part 2. It will change your view of the matrix. Are the human people the ones who started the war ? Is AI a bad thing ?\n"
     ]
    }
   ],
   "source": [
    "# Sample text\n",
    "text = \"The first time you see The Second Renaissance it may look boring. Look at it at least twice and definitely watch part 2. It will change your view of the matrix. Are the human people the ones who started the war ? Is AI a bad thing ?\"\n",
    "print(text)"
   ]
  },
  {
   "cell_type": "code",
   "execution_count": 11,
   "metadata": {},
   "outputs": [
    {
     "name": "stdout",
     "output_type": "stream",
     "text": [
      "the first time you see the second renaissance it may look boring. look at it at least twice and definitely watch part 2. it will change your view of the matrix. are the human people the ones who started the war ? is ai a bad thing ?\n"
     ]
    }
   ],
   "source": [
    "# Convert to lowercase\n",
    "text = text.lower() \n",
    "print(text)"
   ]
  },
  {
   "cell_type": "markdown",
   "metadata": {},
   "source": [
    "### Punctuation Removal"
   ]
  },
  {
   "cell_type": "code",
   "execution_count": 12,
   "metadata": {},
   "outputs": [
    {
     "name": "stdout",
     "output_type": "stream",
     "text": [
      "the first time you see the second renaissance it may look boring  look at it at least twice and definitely watch part 2  it will change your view of the matrix  are the human people the ones who started the war   is ai a bad thing  \n"
     ]
    }
   ],
   "source": [
    "import re\n",
    "\n",
    "# Remove punctuation characters\n",
    "text = re.sub(r\"[^a-zA-Z0-9]\", \" \", text) \n",
    "print(text)"
   ]
  },
  {
   "cell_type": "markdown",
   "metadata": {},
   "source": [
    "## Tokenization"
   ]
  },
  {
   "cell_type": "code",
   "execution_count": 13,
   "metadata": {},
   "outputs": [
    {
     "name": "stdout",
     "output_type": "stream",
     "text": [
      "['the', 'first', 'time', 'you', 'see', 'the', 'second', 'renaissance', 'it', 'may', 'look', 'boring', 'look', 'at', 'it', 'at', 'least', 'twice', 'and', 'definitely', 'watch', 'part', '2', 'it', 'will', 'change', 'your', 'view', 'of', 'the', 'matrix', 'are', 'the', 'human', 'people', 'the', 'ones', 'who', 'started', 'the', 'war', 'is', 'ai', 'a', 'bad', 'thing']\n"
     ]
    }
   ],
   "source": [
    "# Split text into tokens (words)\n",
    "words = text.split()\n",
    "print(words)"
   ]
  },
  {
   "cell_type": "markdown",
   "metadata": {},
   "source": [
    "### NLTK: Natural Language ToolKit"
   ]
  },
  {
   "cell_type": "code",
   "execution_count": 14,
   "metadata": {},
   "outputs": [],
   "source": [
    "import os\n",
    "import nltk\n",
    "nltk.data.path.append(os.path.join(os.getcwd(), \"nltk_data\"))"
   ]
  },
  {
   "cell_type": "code",
   "execution_count": 15,
   "metadata": {},
   "outputs": [
    {
     "name": "stdout",
     "output_type": "stream",
     "text": [
      "Dr. Smith graduated from the University of Washington. He later started an analytics firm called Lux, which catered to enterprise customers.\n"
     ]
    }
   ],
   "source": [
    "# Another sample text\n",
    "text = \"Dr. Smith graduated from the University of Washington. He later started an analytics firm called Lux, which catered to enterprise customers.\"\n",
    "print(text)"
   ]
  },
  {
   "cell_type": "code",
   "execution_count": 16,
   "metadata": {},
   "outputs": [
    {
     "name": "stdout",
     "output_type": "stream",
     "text": [
      "['Dr.', 'Smith', 'graduated', 'from', 'the', 'University', 'of', 'Washington', '.', 'He', 'later', 'started', 'an', 'analytics', 'firm', 'called', 'Lux', ',', 'which', 'catered', 'to', 'enterprise', 'customers', '.']\n"
     ]
    }
   ],
   "source": [
    "from nltk.tokenize import word_tokenize\n",
    "\n",
    "# Split text into words using NLTK\n",
    "words = word_tokenize(text)\n",
    "print(words)"
   ]
  },
  {
   "cell_type": "code",
   "execution_count": 17,
   "metadata": {},
   "outputs": [
    {
     "name": "stdout",
     "output_type": "stream",
     "text": [
      "['Dr. Smith graduated from the University of Washington.', 'He later started an analytics firm called Lux, which catered to enterprise customers.']\n"
     ]
    }
   ],
   "source": [
    "from nltk.tokenize import sent_tokenize\n",
    "\n",
    "# Split text into sentences\n",
    "sentences = sent_tokenize(text)\n",
    "print(sentences)"
   ]
  },
  {
   "cell_type": "code",
   "execution_count": 18,
   "metadata": {},
   "outputs": [
    {
     "name": "stdout",
     "output_type": "stream",
     "text": [
      "['i', 'me', 'my', 'myself', 'we', 'our', 'ours', 'ourselves', 'you', \"you're\", \"you've\", \"you'll\", \"you'd\", 'your', 'yours', 'yourself', 'yourselves', 'he', 'him', 'his', 'himself', 'she', \"she's\", 'her', 'hers', 'herself', 'it', \"it's\", 'its', 'itself', 'they', 'them', 'their', 'theirs', 'themselves', 'what', 'which', 'who', 'whom', 'this', 'that', \"that'll\", 'these', 'those', 'am', 'is', 'are', 'was', 'were', 'be', 'been', 'being', 'have', 'has', 'had', 'having', 'do', 'does', 'did', 'doing', 'a', 'an', 'the', 'and', 'but', 'if', 'or', 'because', 'as', 'until', 'while', 'of', 'at', 'by', 'for', 'with', 'about', 'against', 'between', 'into', 'through', 'during', 'before', 'after', 'above', 'below', 'to', 'from', 'up', 'down', 'in', 'out', 'on', 'off', 'over', 'under', 'again', 'further', 'then', 'once', 'here', 'there', 'when', 'where', 'why', 'how', 'all', 'any', 'both', 'each', 'few', 'more', 'most', 'other', 'some', 'such', 'no', 'nor', 'not', 'only', 'own', 'same', 'so', 'than', 'too', 'very', 's', 't', 'can', 'will', 'just', 'don', \"don't\", 'should', \"should've\", 'now', 'd', 'll', 'm', 'o', 're', 've', 'y', 'ain', 'aren', \"aren't\", 'couldn', \"couldn't\", 'didn', \"didn't\", 'doesn', \"doesn't\", 'hadn', \"hadn't\", 'hasn', \"hasn't\", 'haven', \"haven't\", 'isn', \"isn't\", 'ma', 'mightn', \"mightn't\", 'mustn', \"mustn't\", 'needn', \"needn't\", 'shan', \"shan't\", 'shouldn', \"shouldn't\", 'wasn', \"wasn't\", 'weren', \"weren't\", 'won', \"won't\", 'wouldn', \"wouldn't\"]\n"
     ]
    }
   ],
   "source": [
    "# List stop words\n",
    "from nltk.corpus import stopwords\n",
    "print(stopwords.words(\"english\"))"
   ]
  },
  {
   "cell_type": "code",
   "execution_count": 19,
   "metadata": {},
   "outputs": [
    {
     "name": "stdout",
     "output_type": "stream",
     "text": [
      "['the', 'first', 'time', 'you', 'see', 'the', 'second', 'renaissance', 'it', 'may', 'look', 'boring', 'look', 'at', 'it', 'at', 'least', 'twice', 'and', 'definitely', 'watch', 'part', '2', 'it', 'will', 'change', 'your', 'view', 'of', 'the', 'matrix', 'are', 'the', 'human', 'people', 'the', 'ones', 'who', 'started', 'the', 'war', 'is', 'ai', 'a', 'bad', 'thing']\n"
     ]
    }
   ],
   "source": [
    "# Reset text\n",
    "text = \"The first time you see The Second Renaissance it may look boring. Look at it at least twice and definitely watch part 2. It will change your view of the matrix. Are the human people the ones who started the war ? Is AI a bad thing ?\"\n",
    "\n",
    "# Normalize it\n",
    "text = re.sub(r\"[^a-zA-Z0-9]\", \" \", text.lower())\n",
    "\n",
    "# Tokenize it\n",
    "words = text.split()\n",
    "print(words)"
   ]
  },
  {
   "cell_type": "code",
   "execution_count": 20,
   "metadata": {},
   "outputs": [
    {
     "name": "stdout",
     "output_type": "stream",
     "text": [
      "['first', 'time', 'see', 'second', 'renaissance', 'may', 'look', 'boring', 'look', 'least', 'twice', 'definitely', 'watch', 'part', '2', 'change', 'view', 'matrix', 'human', 'people', 'ones', 'started', 'war', 'ai', 'bad', 'thing']\n"
     ]
    }
   ],
   "source": [
    "# Remove stop words\n",
    "words = [w for w in words if w not in stopwords.words(\"english\")]\n",
    "print(words)"
   ]
  },
  {
   "cell_type": "markdown",
   "metadata": {},
   "source": [
    "### Sentence Parsing"
   ]
  },
  {
   "cell_type": "code",
   "execution_count": 21,
   "metadata": {},
   "outputs": [
    {
     "name": "stdout",
     "output_type": "stream",
     "text": [
      "(S\n",
      "  (NP I)\n",
      "  (VP\n",
      "    (VP (V shot) (NP (Det an) (N elephant)))\n",
      "    (PP (P in) (NP (Det my) (N pajamas)))))\n",
      "(S\n",
      "  (NP I)\n",
      "  (VP\n",
      "    (V shot)\n",
      "    (NP (Det an) (N elephant) (PP (P in) (NP (Det my) (N pajamas))))))\n"
     ]
    }
   ],
   "source": [
    "import nltk\n",
    "\n",
    "# Define a custom grammar\n",
    "my_grammar = nltk.CFG.fromstring(\"\"\"\n",
    "S -> NP VP\n",
    "PP -> P NP\n",
    "NP -> Det N | Det N PP | 'I'\n",
    "VP -> V NP | VP PP\n",
    "Det -> 'an' | 'my'\n",
    "N -> 'elephant' | 'pajamas'\n",
    "V -> 'shot'\n",
    "P -> 'in'\n",
    "\"\"\")\n",
    "parser = nltk.ChartParser(my_grammar)\n",
    "\n",
    "# Parse a sentence\n",
    "sentence = word_tokenize(\"I shot an elephant in my pajamas\")\n",
    "for tree in parser.parse(sentence):\n",
    "    print(tree)"
   ]
  },
  {
   "cell_type": "markdown",
   "metadata": {},
   "source": [
    "## Stemming & Lemmatization\n",
    "\n",
    "### Stemming"
   ]
  },
  {
   "cell_type": "code",
   "execution_count": 22,
   "metadata": {},
   "outputs": [
    {
     "name": "stdout",
     "output_type": "stream",
     "text": [
      "['first', 'time', 'see', 'second', 'renaiss', 'may', 'look', 'bore', 'look', 'least', 'twice', 'definit', 'watch', 'part', '2', 'chang', 'view', 'matrix', 'human', 'peopl', 'one', 'start', 'war', 'ai', 'bad', 'thing']\n"
     ]
    }
   ],
   "source": [
    "from nltk.stem.porter import PorterStemmer\n",
    "\n",
    "# Reduce words to their stems\n",
    "stemmed = [PorterStemmer().stem(w) for w in words]\n",
    "print(stemmed)"
   ]
  },
  {
   "cell_type": "markdown",
   "metadata": {},
   "source": [
    "### Lemmatization"
   ]
  },
  {
   "cell_type": "code",
   "execution_count": 23,
   "metadata": {},
   "outputs": [
    {
     "name": "stdout",
     "output_type": "stream",
     "text": [
      "['first', 'time', 'see', 'second', 'renaissance', 'may', 'look', 'boring', 'look', 'least', 'twice', 'definitely', 'watch', 'part', '2', 'change', 'view', 'matrix', 'human', 'people', 'one', 'started', 'war', 'ai', 'bad', 'thing']\n"
     ]
    }
   ],
   "source": [
    "from nltk.stem.wordnet import WordNetLemmatizer\n",
    "\n",
    "# Reduce words to their root form\n",
    "lemmed = [WordNetLemmatizer().lemmatize(w) for w in words]\n",
    "print(lemmed)"
   ]
  },
  {
   "cell_type": "code",
   "execution_count": 24,
   "metadata": {},
   "outputs": [
    {
     "name": "stdout",
     "output_type": "stream",
     "text": [
      "['first', 'time', 'see', 'second', 'renaissance', 'may', 'look', 'bore', 'look', 'least', 'twice', 'definitely', 'watch', 'part', '2', 'change', 'view', 'matrix', 'human', 'people', 'one', 'start', 'war', 'ai', 'bad', 'thing']\n"
     ]
    }
   ],
   "source": [
    "# Lemmatize verbs by specifying pos\n",
    "lemmed = [WordNetLemmatizer().lemmatize(w, pos='v') for w in lemmed]\n",
    "print(lemmed)"
   ]
  },
  {
   "cell_type": "code",
   "execution_count": null,
   "metadata": {},
   "outputs": [],
   "source": []
  }
 ],
 "metadata": {
  "kernelspec": {
   "display_name": "Python 3",
   "language": "python",
   "name": "python3"
  },
  "language_info": {
   "codemirror_mode": {
    "name": "ipython",
    "version": 3
   },
   "file_extension": ".py",
   "mimetype": "text/x-python",
   "name": "python",
   "nbconvert_exporter": "python",
   "pygments_lexer": "ipython3",
   "version": "3.6.3"
  }
 },
 "nbformat": 4,
 "nbformat_minor": 2
}
