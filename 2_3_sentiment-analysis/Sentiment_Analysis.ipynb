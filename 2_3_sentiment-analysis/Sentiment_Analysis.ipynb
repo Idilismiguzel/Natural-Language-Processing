{
  "nbformat": 4,
  "nbformat_minor": 0,
  "metadata": {
    "colab": {
      "name": "Sentiment_Analysis.ipynb",
      "provenance": [],
      "collapsed_sections": []
    },
    "kernelspec": {
      "name": "python3",
      "display_name": "Python 3"
    },
    "accelerator": "GPU"
  },
  "cells": [
    {
      "cell_type": "code",
      "metadata": {
        "colab": {
          "base_uri": "https://localhost:8080/"
        },
        "id": "tG_0V4Mt0o2b",
        "outputId": "c96b7887-4fd0-4d7a-9c37-673c44174f6a"
      },
      "source": [
        "!git clone https://github.com/Idilismiguzel/Natural-Language-Processing"
      ],
      "execution_count": 28,
      "outputs": [
        {
          "output_type": "stream",
          "text": [
            "Cloning into 'Natural-Language-Processing'...\n",
            "remote: Enumerating objects: 47463, done.\u001b[K\n",
            "remote: Counting objects: 100% (47463/47463), done.\u001b[K\n",
            "remote: Compressing objects: 100% (47459/47459), done.\u001b[K\n",
            "remote: Total 49716 (delta 0), reused 47461 (delta 0), pack-reused 2253\u001b[K\n",
            "Receiving objects: 100% (49716/49716), 99.63 MiB | 12.20 MiB/s, done.\n",
            "Resolving deltas: 100% (4/4), done.\n",
            "Checking out files: 100% (50095/50095), done.\n"
          ],
          "name": "stdout"
        }
      ]
    },
    {
      "cell_type": "code",
      "metadata": {
        "colab": {
          "base_uri": "https://localhost:8080/"
        },
        "id": "RfbjHIbg39i-",
        "outputId": "7cffb3fb-0873-4a04-9896-fa0141922d44"
      },
      "source": [
        "%cd /content/Natural-Language-Processing/2_3_sentiment-analysis"
      ],
      "execution_count": 29,
      "outputs": [
        {
          "output_type": "stream",
          "text": [
            "/content/Natural-Language-Processing/2_3_sentiment-analysis\n"
          ],
          "name": "stdout"
        }
      ]
    },
    {
      "cell_type": "markdown",
      "metadata": {
        "id": "hQGYeeoB4Wxh"
      },
      "source": [
        "# Sentiment Analysis\r\n",
        "\r\n",
        "With the rise of online social media platforms like Twitter, Facebook and Reddit, and the proliferation of customer reviews on sites like Amazon and Yelp, we now have access more than ever before, to massive text-based datasets. They can be analyzed in order to determine how large portions of the population feel about certain products, events, etc. This sort of analysis is called _sentiment analysis_. In this notebook we will build an end-to-end sentiment classification system from scratch. "
      ]
    },
    {
      "cell_type": "markdown",
      "metadata": {
        "id": "9TWzlb-15aE_"
      },
      "source": [
        "## Step 1: Exploring the data\r\n",
        "\r\n",
        "The dataset we are going to use is very popular among the researchers in Natural Language Processing, usually referred to as the [IMDb dataset](http://ai.stanford.edu/~amaas/data/sentiment/). It consists of movie reviews from the website [imdb.com](http://www.imdb.com/), each labeled as either '**pos**itive', if the reviewer enjoyed the film, or '**neg**ative' otherwise. \r\n",
        "\r\n",
        "> Maas, Andrew L., et al. [Learning Word Vectors for Sentiment Analysis](http://ai.stanford.edu/~amaas/data/sentiment/). In _Proceedings of the 49th Annual Meeting of the Association for Computational Linguistics: Human Language Technologies_. Association for Computational Linguistics, 2011.\r\n"
      ]
    },
    {
      "cell_type": "code",
      "metadata": {
        "colab": {
          "base_uri": "https://localhost:8080/"
        },
        "id": "SJfBtTMo4K45",
        "outputId": "e324d50c-fa7c-4170-cc1d-2aadc2aa76a3"
      },
      "source": [
        "import os\r\n",
        "import glob\r\n",
        "\r\n",
        "def read_imdb_data(data_dir=\"data/imdb-reviews\"):\r\n",
        "  \"\"\"Read IMDb movie reviews from given directory.\r\n",
        "\r\n",
        "  Directory structure expected:\r\n",
        "  - data/\r\n",
        "      - train/\r\n",
        "          - pos/\r\n",
        "          - neg/\r\n",
        "      - test/\r\n",
        "          - pos/\r\n",
        "          - neg/\r\n",
        "\r\n",
        "  \"\"\"\r\n",
        "    # Data, labels to be returned in nested dicts matching the dir. structure\r\n",
        "  data = {}\r\n",
        "  labels = {}\r\n",
        "\r\n",
        "    # Assume 2 sub-directories: train, test\r\n",
        "  for data_type in [\"train\", \"test\"]:\r\n",
        "    data[data_type] = {}\r\n",
        "    labels[data_type] = {}\r\n",
        "\r\n",
        "    # Assume 2 sub-directories for sentiment (label): pos, neg\r\n",
        "    for sentiment in [\"pos\", \"neg\"]:\r\n",
        "      data[data_type][sentiment] = []\r\n",
        "      labels[data_type][sentiment] = []\r\n",
        "\r\n",
        "      # Fetch list of files for this sentiment\r\n",
        "      path = os.path.join(data_dir, data_type, sentiment, \"*.txt\")\r\n",
        "      files = glob.glob(path)\r\n",
        "\r\n",
        "      # Read reviews data and assing labels\r\n",
        "      for f in files:\r\n",
        "        with open(f) as review:\r\n",
        "          data[data_type][sentiment].append(review.read())\r\n",
        "          labels[data_type][sentiment].append(sentiment)\r\n",
        "      \r\n",
        "      assert len(data[data_type][sentiment]) == len(labels[data_type][sentiment]), \\\r\n",
        "                  \"{}/{} data size does not match labels size\".format(data_type, sentiment)\r\n",
        "\r\n",
        "  return data, labels\r\n",
        "\r\n",
        "data, labels = read_imdb_data()\r\n",
        "print(\"IMDb reviews: train = {} pos / {} neg, test = {} pos / {} neg\".format(\r\n",
        "        len(data['train']['pos']), len(data['train']['neg']),\r\n",
        "        len(data['test']['pos']), len(data['test']['neg'])))"
      ],
      "execution_count": 30,
      "outputs": [
        {
          "output_type": "stream",
          "text": [
            "IMDb reviews: train = 12500 pos / 12500 neg, test = 12500 pos / 12500 neg\n"
          ],
          "name": "stdout"
        }
      ]
    },
    {
      "cell_type": "markdown",
      "metadata": {
        "id": "Ohg7Xw-2X3GC"
      },
      "source": [
        "Now that the data is loaded in, let's take a quick look at one of the positive reviews:"
      ]
    },
    {
      "cell_type": "code",
      "metadata": {
        "colab": {
          "base_uri": "https://localhost:8080/"
        },
        "id": "6BckSCLFXjJm",
        "outputId": "c44ecbd0-efc1-4811-f845-a47b4595e3aa"
      },
      "source": [
        "print(data['train']['pos'][2])"
      ],
      "execution_count": 31,
      "outputs": [
        {
          "output_type": "stream",
          "text": [
            "Spoilers! Classic 70's sex trash! The Swedish gal (Helga) was what made this movie so great. She was beautiful, but what really got to me was how sexual she was. She exuded massive quantities of sexuality throughout the film. Her best scenes were when she was, er, stimulating herself. Whenever she was on screen, I became transfixed.<br /><br />Also, the Doctor Julia (sister of the dimwitted male focus of the film) was very interesting visually. Although most 12 year old girls have bigger breasts than Julia, she knew how to use what little she had and her scenes (especially the scenes with the silk blouse and black skirt) also grabbed my attention unmercilessly. You also got to love the major hoaky scene where the bats stripped her nekkid; I don't know if I've ever seen anything more ludicrous yet sexy at the same time. Classic stuff!\n"
          ],
          "name": "stdout"
        }
      ]
    },
    {
      "cell_type": "code",
      "metadata": {
        "colab": {
          "base_uri": "https://localhost:8080/"
        },
        "id": "q-v0S05UX55L",
        "outputId": "5ea7fc2e-9e7d-4e25-c7df-679efd36f8dd"
      },
      "source": [
        "print(data['train']['neg'][2])"
      ],
      "execution_count": 32,
      "outputs": [
        {
          "output_type": "stream",
          "text": [
            "If ever there was a film that deserved a big fat zero rating it's this pile of crap. I love zombie films and even bad ones usually have something going for them but not this atrocity. I actually began to feel angry watching this film because it's so insultingly poor, I can't believe the people responsible for it would actually think this was acceptable.<br /><br />There's no plot and the non-plot is cut with scenes of sadism and spanking. The people don't react, act or in any way resemble human beings. The entire movie is also shot in two rooms scantily decorated to vaguely resemble the places they are supposed to be. The whole thing is one pointless mess, it doesn't go anywhere and when the zombies finally turn up they look rubbish and don't do very much.<br /><br />I could make a better film than this, so could you and so could someone who had never seen a movie before. It's pitiful and without doubt the worst movie of all time.<br /><br />Honestly, the very worst movie of all time. You'll note by the way that the only positive reviews give this a 10/10 and urge you to BUY the DVD. I can't imagine anyone neutral genuinely thinking this is a good film, it's terrible.<br /><br />0/10 and that's generous.\n"
          ],
          "name": "stdout"
        }
      ]
    },
    {
      "cell_type": "markdown",
      "metadata": {
        "id": "6TUnOFaqYCGB"
      },
      "source": [
        "We can also make a wordcloud visualization of the reviews."
      ]
    },
    {
      "cell_type": "code",
      "metadata": {
        "colab": {
          "base_uri": "https://localhost:8080/",
          "height": 198
        },
        "id": "QqmUSboSYBzZ",
        "outputId": "9427a548-7608-4b6c-aab2-af1828bec4b7"
      },
      "source": [
        "import matplotlib.pyplot as plt\r\n",
        "%matplotlib inline\r\n",
        "\r\n",
        "from wordcloud import WordCloud, STOPWORDS\r\n",
        "\r\n",
        "sentiment = 'pos'\r\n",
        "\r\n",
        "# Combine all reviews for the desired sentiment\r\n",
        "combined_text = \" \".join([review for review in data[\"train\"][sentiment]])\r\n",
        "\r\n",
        "# Initialize wordcloud object\r\n",
        "cloud = WordCloud(background_color=\"white\", max_words=50, stopwords=STOPWORDS.update([\"br\", \"film\", \"movie\"]))\r\n",
        "\r\n",
        "# Generate and plot wordcloud\r\n",
        "plt.imshow(cloud.generate(combined_text))\r\n",
        "plt.axis(\"off\")\r\n",
        "plt.show()"
      ],
      "execution_count": 33,
      "outputs": [
        {
          "output_type": "display_data",
          "data": {
            "image/png": "[encoded data removed]",
            "text/plain": [
              "<Figure size 432x288 with 1 Axes>"
            ]
          },
          "metadata": {
            "tags": [],
            "needs_background": "light"
          }
        }
      ]
    },
    {
      "cell_type": "markdown",
      "metadata": {
        "id": "kDA1sFVUYvc6"
      },
      "source": [
        ""
      ]
    },
    {
      "cell_type": "code",
      "metadata": {
        "colab": {
          "base_uri": "https://localhost:8080/",
          "height": 198
        },
        "id": "rkRa_HzOX_Qi",
        "outputId": "27cffbb8-b8d3-440c-d58d-ac10bfe58ba3"
      },
      "source": [
        "# Wordcloud for sentiment='neg\r\n",
        "\r\n",
        "sentiment = 'neg'\r\n",
        "\r\n",
        "# Combine all reviews for the desired sentiment\r\n",
        "combined_text = \" \".join([review for review in data[\"train\"][sentiment]])\r\n",
        "\r\n",
        "# Initialize wordcloud object\r\n",
        "cloud = WordCloud(background_color=\"white\", max_words=50, stopwords=STOPWORDS.update([\"br\", \"film\", \"movie\"]))\r\n",
        "\r\n",
        "# Generate and plot wordcloud\r\n",
        "plt.imshow(cloud.generate(combined_text))\r\n",
        "plt.axis(\"off\")\r\n",
        "plt.show()"
      ],
      "execution_count": 34,
      "outputs": [
        {
          "output_type": "display_data",
          "data": {
            "image/png": "[encoded data removed]",
            "text/plain": [
              "<Figure size 432x288 with 1 Axes>"
            ]
          },
          "metadata": {
            "tags": [],
            "needs_background": "light"
          }
        }
      ]
    },
    {
      "cell_type": "markdown",
      "metadata": {
        "id": "EjHBUgQrZEdJ"
      },
      "source": [
        "### TODO: Form training and test sets\r\n",
        "\r\n",
        "Now that we've seen what the raw data looks like, combine the positive and negative documents to get one unified training set and one unified test set."
      ]
    },
    {
      "cell_type": "code",
      "metadata": {
        "colab": {
          "base_uri": "https://localhost:8080/"
        },
        "id": "RtsVkOn7Y5jK",
        "outputId": "e8393256-77cc-4ca7-df49-c18556d4f18c"
      },
      "source": [
        "from sklearn.utils import shuffle\r\n",
        "\r\n",
        "def prepare_imdb_data(data):\r\n",
        "  \"\"\"Prepare training and test sets from Imdb movie reviews.\"\"\"\r\n",
        "\r\n",
        "  # Combine positive and negative reviews and labels\r\n",
        "  data_train = data[\"train\"][\"pos\"] + data[\"train\"][\"neg\"]\r\n",
        "  data_test = data[\"test\"][\"pos\"] + data[\"test\"][\"neg\"]\r\n",
        "  labels_train = labels[\"train\"][\"pos\"] + labels[\"train\"][\"neg\"]\r\n",
        "  labels_test = labels['test']['pos'] + labels['test']['neg']\r\n",
        "\r\n",
        "  # Shuffle reviews and corresponding labels within training and test sets\r\n",
        "  data_train, labels_train = shuffle(data_train, labels_train)\r\n",
        "  data_test, labels_test = shuffle(data_test, labels_test)\r\n",
        "\r\n",
        "  # Return a unified trainind data, test data, training labels and test labels\r\n",
        "  return data_train, data_test, labels_train, labels_test\r\n",
        "\r\n",
        "data_train, data_test, labels_train, labels_test = prepare_imdb_data(data)\r\n",
        "print(\"IMDb reviews (combined): train = {}, test = {}\".format(len(data_train), len(data_test)))"
      ],
      "execution_count": 35,
      "outputs": [
        {
          "output_type": "stream",
          "text": [
            "IMDb reviews (combined): train = 25000, test = 25000\n"
          ],
          "name": "stdout"
        }
      ]
    },
    {
      "cell_type": "markdown",
      "metadata": {
        "id": "06psfqxPfQPA"
      },
      "source": [
        "## Step 2. Preprocessing\r\n",
        "\r\n",
        "As you might have noticed in the sample reviews, our raw data includes HTML. Therefore there are HTML tags that need to be removed. We also need to remove non-letter characters, normalize uppercase letters by converting them to lowercase, tokenize, remove stop words, and stem the remaining words in each document.\r\n",
        "\r\n"
      ]
    },
    {
      "cell_type": "code",
      "metadata": {
        "colab": {
          "base_uri": "https://localhost:8080/"
        },
        "id": "wLTMB5xZZb-C",
        "outputId": "a99e7608-d410-4708-8236-34bdb1071763"
      },
      "source": [
        "# BeautifulSoup to easily remove HTML tags\r\n",
        "from bs4 import BeautifulSoup\r\n",
        "\r\n",
        "# RegEx for removing non-letter characters\r\n",
        "import re\r\n",
        "\r\n",
        "# NLTK for remaining steps\r\n",
        "import nltk\r\n",
        "nltk.download(\"stopwords\")   # download list of stopwords only once\r\n",
        "from nltk.corpus import stopwords \r\n",
        "\r\n",
        "from nltk.stem.porter import *\r\n",
        "stemmer = PorterStemmer()"
      ],
      "execution_count": 36,
      "outputs": [
        {
          "output_type": "stream",
          "text": [
            "[nltk_data] Downloading package stopwords to /root/nltk_data...\n",
            "[nltk_data]   Package stopwords is already up-to-date!\n"
          ],
          "name": "stdout"
        }
      ]
    },
    {
      "cell_type": "code",
      "metadata": {
        "colab": {
          "base_uri": "https://localhost:8080/"
        },
        "id": "tHtFPGgcgyVD",
        "outputId": "92d796ed-a0a5-4b0f-9c4c-344816147917"
      },
      "source": [
        "def review_to_words(review):\r\n",
        "  \"\"\" Convert a raw review string into a sequence of words.\"\"\"\r\n",
        "\r\n",
        "  # Remove HTML tags and non-letters\r\n",
        "  text = BeautifulSoup(review, \"html5lib\").get_text()\r\n",
        "  text = re.sub(r\"[^a-zA-Z0-9]\", \" \", text.lower())\r\n",
        "  words = text.split()\r\n",
        "  words = [w for w in words if w not in stopwords.words(\"english\")]\r\n",
        "  words = [PorterStemmer().stem(w) for w in words]\r\n",
        "\r\n",
        "  # Return final list of words\r\n",
        "  return words\r\n",
        "\r\n",
        "review_to_words(\"\"\"This is just a <em>test</em>.<br/><br />\r\n",
        "But if it wasn't a test, it would make for a <b>Great</b> movie review!\"\"\")"
      ],
      "execution_count": 37,
      "outputs": [
        {
          "output_type": "execute_result",
          "data": {
            "text/plain": [
              "['test', 'test', 'would', 'make', 'great', 'movi', 'review']"
            ]
          },
          "metadata": {
            "tags": []
          },
          "execution_count": 37
        }
      ]
    },
    {
      "cell_type": "markdown",
      "metadata": {
        "id": "xW7KnebSh2Re"
      },
      "source": [
        "With the function review_to_words() fully implemeneted, we can apply it to all reviews in both training and test datasets. This may take a while, so let's build in a mechanism to write to a cache file and retrieve from it later."
      ]
    },
    {
      "cell_type": "code",
      "metadata": {
        "colab": {
          "base_uri": "https://localhost:8080/"
        },
        "id": "GYUny-R4hyWU",
        "outputId": "c015dad1-3173-4b3c-f67d-772831473ee0"
      },
      "source": [
        "import pickle \r\n",
        "\r\n",
        "cache_dir = os.path.join(\"cache\", \"sentiment_analysis\")   # where to store the cache files\r\n",
        "os.makedirs(cache_dir, exist_ok=True) # ensure cache directory exists\r\n",
        "\r\n",
        "def preprocess_data(data_train, data_test, labels_train, labels_test,\r\n",
        "                    cache_dir=cache_dir, cache_file=\"preprocessed_data.pkl\"):\r\n",
        "  \r\n",
        "  # If cache_file is not None, try to read from it first\r\n",
        "  cache_data = None\r\n",
        "  if cache_file is not None:\r\n",
        "    try:\r\n",
        "      with open(os.path-join(cache_dir, cache_file), \"rb\") as f:\r\n",
        "        cache_data = pickle.load(f)\r\n",
        "      print(\"Read preprocessed data from cache file:\", cache_file)\r\n",
        "    except:\r\n",
        "      pass    # Unable to read from cache, but that's okay\r\n",
        "  \r\n",
        "  # If cache is missing, then do the heavy lifting\r\n",
        "  if cache_data is None:\r\n",
        "    # Preprocess training and test data to obtain words for each review\r\n",
        "    words_train = list(map(review_to_words, data_train))\r\n",
        "    words_test = list(map(review_to_words, data_test))\r\n",
        "\r\n",
        "    # Write to cache file for future runs\r\n",
        "    if cache_file is not None:\r\n",
        "      cache_data = dict(words_train=words_train, words_test=words_test, \r\n",
        "                        labels_train=labels_train, labels_test=labels_test)\r\n",
        "      with open(os.path.join(cache_dir, cache_file), \"wb\") as f:\r\n",
        "        pickle.dump(cache_data, f)\r\n",
        "      print(\"Wrote preprocessed data to cache file:\", cache_file)\r\n",
        "    else:\r\n",
        "      # Unpack data loaded from cache_file\r\n",
        "      words_train, words_test, labels_train, labels_test = (cache_data['words_train'],\r\n",
        "              cache_data['words_test'], cache_data['labels_train'], cache_data['labels_test'])\r\n",
        "\r\n",
        "  return words_train, words_test, labels_train, labels_test\r\n",
        "\r\n",
        "\r\n",
        "# Preprocess data\r\n",
        "words_train, words_test, labels_train, labels_test = preprocess_data(\r\n",
        "        data_train, data_test, labels_train, labels_test)\r\n",
        "\r\n",
        "# Take a look at a sample\r\n",
        "print(\"\\n--- Raw review ---\")\r\n",
        "print(data_train[1])\r\n",
        "print(\"\\n--- Preprocessed words ---\")\r\n",
        "print(words_train[1])\r\n",
        "print(\"\\n--- Label ---\")\r\n",
        "print(labels_train[1])"
      ],
      "execution_count": 38,
      "outputs": [
        {
          "output_type": "stream",
          "text": [
            "Wrote preprocessed data to cache file: preprocessed_data.pkl\n",
            "\n",
            "--- Raw review ---\n",
            "O my gosh... Just give me a minute to breath. This movie takes you on an awesome ride and doesn't let you go until the very last blow in your face ending. This is the the movie for fans of Stormriders and such. Legend of Zu was beautifully created, although I didn't like a few things, they used alot of stand ins. I wanted to see the real person fight but, oh well... a few small let downs,and I didn't really like it a lot until I watched it again, when you understand it more it totally kicks A**! I encourage anyone who ever wanted to see a true Asian movie, to see this movie. I give this movie one of my highest ratings.Go and see it when it comes out in America!!!\n",
            "\n",
            "--- Preprocessed words ---\n",
            "['gosh', 'give', 'minut', 'breath', 'movi', 'take', 'awesom', 'ride', 'let', 'go', 'last', 'blow', 'face', 'end', 'movi', 'fan', 'stormrid', 'legend', 'zu', 'beauti', 'creat', 'although', 'like', 'thing', 'use', 'alot', 'stand', 'in', 'want', 'see', 'real', 'person', 'fight', 'oh', 'well', 'small', 'let', 'down', 'realli', 'like', 'lot', 'watch', 'understand', 'total', 'kick', 'encourag', 'anyon', 'ever', 'want', 'see', 'true', 'asian', 'movi', 'see', 'movi', 'give', 'movi', 'one', 'highest', 'rate', 'go', 'see', 'come', 'america']\n",
            "\n",
            "--- Label ---\n",
            "pos\n"
          ],
          "name": "stdout"
        }
      ]
    },
    {
      "cell_type": "markdown",
      "metadata": {
        "id": "THo98OZAp2Nu"
      },
      "source": [
        "\r\n",
        "## Step 3: Extracting Bag-of-Words features\r\n",
        "\r\n",
        "Now that each document has been preprocessed, we can transform each into a Bag-of-Words feature representation. Note that we need to create this transformation based on the training data alone, as we are not allowed to peek at the testing data at all!\r\n",
        "\r\n",
        "The dictionary or _vocabulary_ $V$ (set of words shared by documents in the training set) used here will be the one on which we train our supervised learning algorithm. Any future test data must be transformed in the same way for us to be able to apply the learned model for prediction. Hence, it is important to store the transformation / vocabulary as well.\r\n",
        "\r\n",
        "> **Note**: The set of words in the training set may not be exactly the same as the test set. What do you do if you encounter a word during testing that you haven't seen before? Unfortunately, we'll have to ignore it, or replace it with a special `<UNK>` token.\r\n",
        "\r\n",
        "### TODO: Compute Bag-of-Words features\r\n",
        "\r\n",
        "Implement the `extract_BoW_features()` function, apply it to both training and test datasets, and store the results in `features_train` and `features_test` NumPy arrays, respectively. Choose a reasonable vocabulary size, say $|V| = 5000$, and keep only the top $|V|$ occuring words and discard the rest. This number will also serve as the number of columns in the BoW matrices.\r\n",
        "\r\n",
        "> **Hint**: You may find it useful to take advantage of `CountVectorizer` from scikit-learn. Also make sure to pickle your Bag-of-Words transformation so that you can use it in future.\r\n",
        "---\r\n",
        "\r\n"
      ]
    },
    {
      "cell_type": "code",
      "metadata": {
        "colab": {
          "base_uri": "https://localhost:8080/"
        },
        "id": "0TZ1go7pqNy9",
        "outputId": "6dc43cc2-83f3-4a95-f1c7-9a21998347c3"
      },
      "source": [
        "import numpy as np\r\n",
        "from sklearn.feature_extraction.text import CountVectorizer\r\n",
        "from sklearn.externals import joblib\r\n",
        "# joblib is an enhanced version of pickle that is more efficient for storing NumPy arrays\r\n",
        "\r\n",
        "def extract_BoW_features(words_train, words_test, vocabulary_size=5000,\r\n",
        "                         cache_dir=cache_dir, cache_file=\"bow_features.pkl\"):\r\n",
        "    \"\"\"Extract Bag-of-Words for a given set of documents, already preprocessed into words.\"\"\"\r\n",
        "    \r\n",
        "    # If cache_file is not None, try to read from it first\r\n",
        "    cache_data = None\r\n",
        "    if cache_file is not None:\r\n",
        "        try:\r\n",
        "            with open(os.path.join(cache_dir, cache_file), \"rb\") as f:\r\n",
        "                cache_data = joblib.load(f)\r\n",
        "            print(\"Read features from cache file:\", cache_file)\r\n",
        "        except:\r\n",
        "            pass  # unable to read from cache, but that's okay\r\n",
        "    \r\n",
        "    # If cache is missing, then do the heavy lifting\r\n",
        "    if cache_data is None:\r\n",
        "        # TODO: Fit a vectorizer to training documents and use it to transform them\r\n",
        "        # NOTE: Training documents have already been preprocessed and tokenized into words;\r\n",
        "        #       pass in dummy functions to skip those steps, e.g. preprocessor=lambda x: x\r\n",
        "        vectorizer = CountVectorizer(max_features=vocabulary_size,\r\n",
        "                preprocessor=lambda x: x, tokenizer=lambda x: x)  # already preprocessed\r\n",
        "        features_train = vectorizer.fit_transform(words_train).toarray()\r\n",
        "\r\n",
        "        # TODO: Apply the same vectorizer to transform the test documents (ignore unknown words)\r\n",
        "        features_test = vectorizer.transform(words_test).toarray() \r\n",
        "        \r\n",
        "        # NOTE: Remember to convert the features using .toarray() for a compact representation\r\n",
        "        \r\n",
        "        # Write to cache file for future runs (store vocabulary as well)\r\n",
        "        if cache_file is not None:\r\n",
        "            vocabulary = vectorizer.vocabulary_\r\n",
        "            cache_data = dict(features_train=features_train, features_test=features_test,\r\n",
        "                             vocabulary=vocabulary)\r\n",
        "            with open(os.path.join(cache_dir, cache_file), \"wb\") as f:\r\n",
        "                joblib.dump(cache_data, f)\r\n",
        "            print(\"Wrote features to cache file:\", cache_file)\r\n",
        "    else:\r\n",
        "        # Unpack data loaded from cache file\r\n",
        "        features_train, features_test, vocabulary = (cache_data['features_train'],\r\n",
        "                cache_data['features_test'], cache_data['vocabulary'])\r\n",
        "    \r\n",
        "    # Return both the extracted features as well as the vocabulary\r\n",
        "    return features_train, features_test, vocabulary\r\n",
        "\r\n",
        "\r\n",
        "# Extract Bag of Words features for both training and test datasets\r\n",
        "features_train, features_test, vocabulary = extract_BoW_features(words_train, words_test)\r\n",
        "\r\n",
        "# Inspect the vocabulary that was computed\r\n",
        "print(\"Vocabulary: {} words\".format(len(vocabulary)))\r\n",
        "\r\n",
        "import random\r\n",
        "print(\"Sample words: {}\".format(random.sample(list(vocabulary.keys()), 8)))\r\n",
        "\r\n",
        "# Sample\r\n",
        "print(\"\\n--- Preprocessed words ---\")\r\n",
        "print(words_train[5])\r\n",
        "print(\"\\n--- Bag-of-Words features ---\")\r\n",
        "print(features_train[5])\r\n",
        "print(\"\\n--- Label ---\")\r\n",
        "print(labels_train[5])"
      ],
      "execution_count": 39,
      "outputs": [
        {
          "output_type": "stream",
          "text": [
            "Read features from cache file: bow_features.pkl\n",
            "Vocabulary: 5000 words\n",
            "Sample words: ['greed', 'post', 'drain', 'alicia', 'arm', 'technic', 'french', 'antagonist']\n",
            "\n",
            "--- Preprocessed words ---\n",
            "['movi', 'first', 'time', 'movi', 'experi', 'sever', 'peopl', 'cast', 'experienc', 'actor', 'play', 'sever', 'tv', 'seri', 'play', 'sahan', 'gokbakar', 'well', 'known', 'comedian', 'turkey', 'kind', 'strang', 'see', 'thriller', 'peak', 'comedi', 'career', 'turkey', 'movi', 'togan', 'gokbakar', 'first', 'long', 'shot', 'pretti', 'much', 'first', 'experi', 'director', 'good', 'job', 'happi', 'see', 'enthusiast', 'young', 'cast', 'seem', 'promis', 'futur', 'turkish', 'film', 'industri', 'doga', 'rutkay', 'long', 'time', 'sweetheart', 'sahan', 'gokbakar', 'also', 'talent', 'actress', 'known', 'recent', 'play', 'number', '27', 'theatric', 'play', 'sever', 'tv', 'seri']\n",
            "\n",
            "--- Bag-of-Words features ---\n",
            "[0 0 0 ... 0 0 0]\n",
            "\n",
            "--- Label ---\n",
            "pos\n"
          ],
          "name": "stdout"
        }
      ]
    },
    {
      "cell_type": "markdown",
      "metadata": {
        "id": "mB2p5s0mrovH"
      },
      "source": [
        "Let's try to visualize the Bag-of-Words feature vector for one of our training documents."
      ]
    },
    {
      "cell_type": "code",
      "metadata": {
        "colab": {
          "base_uri": "https://localhost:8080/",
          "height": 279
        },
        "id": "0su_B_B_riO4",
        "outputId": "3749f21c-d093-4b38-de63-0679d42d0987"
      },
      "source": [
        "# Plot the BoW feature vector for a training document\r\n",
        "plt.plot(features_train[5,:])\r\n",
        "plt.xlabel('Word')\r\n",
        "plt.ylabel('Count')\r\n",
        "plt.show()"
      ],
      "execution_count": 40,
      "outputs": [
        {
          "output_type": "display_data",
          "data": {
            "image/png": "[encoded data removed]",
            "text/plain": [
              "<Figure size 432x288 with 1 Axes>"
            ]
          },
          "metadata": {
            "tags": [],
            "needs_background": "light"
          }
        }
      ]
    },
    {
      "cell_type": "markdown",
      "metadata": {
        "id": "hCsz9n3Dr0lH"
      },
      "source": [
        "### Zipf's law\r\n",
        "\r\n",
        "[Zipf's law](https://en.wikipedia.org/wiki/Zipf%27s_law), named after the famous American linguist George Zipf, is an empirical law stating that given a large collection of documents, the frequency of any word is inversely proportional to its rank in the frequency table. So the most frequent word will occur about twice as often as the second most frequent word, three times as often as the third most frequent word, and so on. In the figure below we plot number of appearances of each word in our training set against its rank."
      ]
    },
    {
      "cell_type": "code",
      "metadata": {
        "colab": {
          "base_uri": "https://localhost:8080/",
          "height": 283
        },
        "id": "3oWc4EYKrrTu",
        "outputId": "1209cdfd-9a7b-4477-a9cf-7482244e73d5"
      },
      "source": [
        "# Find number of occurrences for each word in the training set\r\n",
        "word_freq = features_train.sum(axis=0)\r\n",
        "\r\n",
        "# Sort it in descending order\r\n",
        "sorted_word_freq = np.sort(word_freq)[::-1]\r\n",
        "\r\n",
        "# Plot \r\n",
        "plt.plot(sorted_word_freq)\r\n",
        "plt.gca().set_xscale('log')\r\n",
        "plt.gca().set_yscale('log')\r\n",
        "plt.xlabel('Rank')\r\n",
        "plt.ylabel('Number of occurrences')\r\n",
        "plt.show()"
      ],
      "execution_count": 41,
      "outputs": [
        {
          "output_type": "display_data",
          "data": {
            "image/png": "[encoded data removed]",
            "text/plain": [
              "<Figure size 432x288 with 1 Axes>"
            ]
          },
          "metadata": {
            "tags": [],
            "needs_background": "light"
          }
        }
      ]
    },
    {
      "cell_type": "markdown",
      "metadata": {
        "id": "ft4SkWp2r7_Y"
      },
      "source": [
        "### TODO: Normalize feature vectors\r\n",
        "\r\n",
        "Bag-of-Words features are intuitive to understand as they are simply word counts. But counts can vary a lot, and potentially throw off learning algorithms later in the pipeline. So, before we proceed further, let's normalize the BoW feature vectors to have unit length.\r\n",
        "\r\n",
        "This makes sure that each document's representation retains the unique mixture of feature components, but prevents documents with large word counts from dominating those with fewer words."
      ]
    },
    {
      "cell_type": "code",
      "metadata": {
        "id": "jt3XKWkdr4Zm"
      },
      "source": [
        "import sklearn.preprocessing as pr\r\n",
        "\r\n",
        "# Normalize BoW features in training and test set\r\n",
        "features_train = pr.normalize(features_train, axis=1)\r\n",
        "features_test = pr.normalize(features_test, axis=1)"
      ],
      "execution_count": 42,
      "outputs": []
    },
    {
      "cell_type": "markdown",
      "metadata": {
        "id": "62y9OYSVsECO"
      },
      "source": [
        "## Step 4: Classification using BoW features\r\n",
        "\r\n",
        "Now that the data has all been properly transformed, we can feed it into a classifier. To get a baseline model, we train a Naive Bayes classifier from scikit-learn (specifically, [`GaussianNB`](http://scikit-learn.org/stable/modules/generated/sklearn.naive_bayes.GaussianNB.html)), and evaluate its accuracy on the test set."
      ]
    },
    {
      "cell_type": "code",
      "metadata": {
        "colab": {
          "base_uri": "https://localhost:8080/"
        },
        "id": "CpDsokmNsDjt",
        "outputId": "8acfa809-917f-4a60-a316-9be1f4832c5e"
      },
      "source": [
        "from sklearn.naive_bayes import GaussianNB\r\n",
        "\r\n",
        "# Train a Guassian Naive Bayes classifier\r\n",
        "clf1 = GaussianNB()\r\n",
        "clf1.fit(features_train, labels_train)\r\n",
        "\r\n",
        "# Calculate the mean accuracy score on training and test sets\r\n",
        "print(\"[{}] Accuracy: train = {}, test = {}\".format(\r\n",
        "        clf1.__class__.__name__,\r\n",
        "        clf1.score(features_train, labels_train),\r\n",
        "        clf1.score(features_test, labels_test)))"
      ],
      "execution_count": 43,
      "outputs": [
        {
          "output_type": "stream",
          "text": [
            "[GaussianNB] Accuracy: train = 0.62796, test = 0.50016\n"
          ],
          "name": "stdout"
        }
      ]
    },
    {
      "cell_type": "markdown",
      "metadata": {
        "id": "Ec3dFDposO5v"
      },
      "source": [
        "Tree-based algorithms often work quite well on Bag-of-Words as their highly discontinuous and sparse nature is nicely matched by the structure of trees. As our next task, we will try to improve on the Naive Bayes classifier's performance by using scikit-learn's Gradient-Boosted Decision Tree classifer.\r\n",
        "\r\n",
        "### Gradient-Boosted Decision Tree classifier\r\n",
        "\r\n",
        "Use [`GradientBoostingClassifier`](http://scikit-learn.org/stable/modules/generated/sklearn.ensemble.GradientBoostingClassifier.html) from scikit-learn to classify the BoW data. This model has a number of parameters. We use default parameters for some of them and pre-set the rest for you, except one: `n_estimators`. Find a proper value for this hyperparameter, use it to classify the data, and report how much improvement you get over Naive Bayes in terms of accuracy.\r\n",
        "\r\n",
        "> **Tip**: Use a model selection technique such as cross-validation, grid-search, or an information criterion method, to find an optimal value for the hyperparameter."
      ]
    },
    {
      "cell_type": "code",
      "metadata": {
        "colab": {
          "base_uri": "https://localhost:8080/"
        },
        "id": "9yAkV2NJsBCn",
        "outputId": "b62b1006-a917-4268-a0c7-4faedf77b262"
      },
      "source": [
        "from sklearn.ensemble import GradientBoostingClassifier\r\n",
        "\r\n",
        "n_estimators = 32\r\n",
        "\r\n",
        "def classify_gboost(X_train, X_test, y_train, y_test):        \r\n",
        "    # Initialize classifier\r\n",
        "    clf = GradientBoostingClassifier(n_estimators=n_estimators, learning_rate=1.0, max_depth=1, random_state=0)\r\n",
        "\r\n",
        "    # Classify the data using GradientBoostingClassifier\r\n",
        "    clf.fit(X_train, y_train)\r\n",
        "\r\n",
        "    # Perform hyperparameter tuning / model selection\r\n",
        "    \r\n",
        "    # TODO: Print final training & test accuracy\r\n",
        "    print(\"[{}] Accuracy: train = {}, test = {}\".format(\r\n",
        "            clf.__class__.__name__,\r\n",
        "            clf.score(X_train, y_train),\r\n",
        "            clf.score(X_test, y_test)))\r\n",
        "    \r\n",
        "    # Return best classifier model\r\n",
        "    return clf\r\n",
        "\r\n",
        "\r\n",
        "clf2 = classify_gboost(features_train, features_test, labels_train, labels_test)"
      ],
      "execution_count": 44,
      "outputs": [
        {
          "output_type": "stream",
          "text": [
            "[GradientBoostingClassifier] Accuracy: train = 0.52644, test = 0.4996\n"
          ],
          "name": "stdout"
        }
      ]
    },
    {
      "cell_type": "markdown",
      "metadata": {
        "id": "e2MUfV8QsmG-"
      },
      "source": [
        "### Adverserial testing\r\n",
        "\r\n",
        "Write a short movie review to trick your machine learning model! That is, a movie review with a clear positive or negative sentiment that your model will classify incorrectly.\r\n",
        "\r\n",
        "> **Hint**: You might want to take advantage of the biggest weakness of the Bag-of-Words scheme!"
      ]
    },
    {
      "cell_type": "code",
      "metadata": {
        "colab": {
          "base_uri": "https://localhost:8080/"
        },
        "id": "xfz_x-EHsjLm",
        "outputId": "008ac748-bcb5-4d6e-a745-156a57c2e55b"
      },
      "source": [
        "# TODO: Write a sample review and set its true sentiment\r\n",
        "my_review = \"I thought it would be just like all the other boring sequels that are coming out everyday. But had I not gone, I would've missed out on a treat. Not only was it not boring, it kept me at the edge of my seat till the end.\"\r\n",
        "true_sentiment = 'pos'  # sentiment must be 'pos' or 'neg'\r\n",
        "\r\n",
        "# TODO: Apply the same preprocessing and vectorizing steps as for training data\r\n",
        "my_words = review_to_words(my_review)\r\n",
        "vectorizer = CountVectorizer(vocabulary=vocabulary,\r\n",
        "                             preprocessor=lambda x: x, tokenizer=lambda x: x)  # already preprocessed\r\n",
        "my_bow_features = vectorizer.transform([my_words]).toarray()  # pass an array of 1 element\r\n",
        "\r\n",
        "# TODO: Then call your classifier to label it\r\n",
        "predicted_sentiment = clf2.predict(my_bow_features)[0]\r\n",
        "print(\"--- My review ---\")\r\n",
        "print(my_review)\r\n",
        "print(\"\\n--- Preprocessed words ---\")\r\n",
        "print(my_words)\r\n",
        "print(\"\\nTrue sentiment: {}, predicted sentiment: {}\".format(true_sentiment, predicted_sentiment))"
      ],
      "execution_count": 45,
      "outputs": [
        {
          "output_type": "stream",
          "text": [
            "--- My review ---\n",
            "I thought it would be just like all the other boring sequels that are coming out everyday. But had I not gone, I would've missed out on a treat. Not only was it not boring, it kept me at the edge of my seat till the end.\n",
            "\n",
            "--- Preprocessed words ---\n",
            "['thought', 'would', 'like', 'bore', 'sequel', 'come', 'everyday', 'gone', 'would', 'miss', 'treat', 'bore', 'kept', 'edg', 'seat', 'till', 'end']\n",
            "\n",
            "True sentiment: pos, predicted sentiment: neg\n"
          ],
          "name": "stdout"
        }
      ]
    },
    {
      "cell_type": "markdown",
      "metadata": {
        "id": "H_CYxVlds9tX"
      },
      "source": [
        "## Step 5: Switching gears - RNNs\r\n",
        "\r\n",
        "We just saw how the task of sentiment analysis can be solved via a traditional machine learning approach: BoW + a nonlinear classifier. We now switch gears and use Recurrent Neural Networks, and in particular LSTMs, to perform sentiment analysis in Keras. Conveniently, Keras has a built-in [IMDb movie reviews dataset](https://keras.io/datasets/#imdb-movie-reviews-sentiment-classification) that we can use, with the same vocabulary size."
      ]
    },
    {
      "cell_type": "code",
      "metadata": {
        "colab": {
          "base_uri": "https://localhost:8080/"
        },
        "id": "XK-hmUCqs23-",
        "outputId": "704a3bf5-ce2a-4053-e9b6-e2abb0952e72"
      },
      "source": [
        "from keras.datasets import imdb  # import the built-in imdb dataset in Keras\r\n",
        "\r\n",
        "# Set the vocabulary size\r\n",
        "vocabulary_size = 5000\r\n",
        "\r\n",
        "# Load in training and test data (note the difference in convention compared to scikit-learn)\r\n",
        "(X_train, y_train), (X_test, y_test) = imdb.load_data(num_words=vocabulary_size)\r\n",
        "print(\"Loaded dataset with {} training samples, {} test samples\".format(len(X_train), len(X_test)))"
      ],
      "execution_count": 46,
      "outputs": [
        {
          "output_type": "stream",
          "text": [
            "<string>:6: VisibleDeprecationWarning: Creating an ndarray from ragged nested sequences (which is a list-or-tuple of lists-or-tuples-or ndarrays with different lengths or shapes) is deprecated. If you meant to do this, you must specify 'dtype=object' when creating the ndarray\n",
            "/usr/local/lib/python3.7/dist-packages/tensorflow/python/keras/datasets/imdb.py:159: VisibleDeprecationWarning: Creating an ndarray from ragged nested sequences (which is a list-or-tuple of lists-or-tuples-or ndarrays with different lengths or shapes) is deprecated. If you meant to do this, you must specify 'dtype=object' when creating the ndarray\n",
            "  x_train, y_train = np.array(xs[:idx]), np.array(labels[:idx])\n"
          ],
          "name": "stderr"
        },
        {
          "output_type": "stream",
          "text": [
            "Loaded dataset with 25000 training samples, 25000 test samples\n"
          ],
          "name": "stdout"
        },
        {
          "output_type": "stream",
          "text": [
            "/usr/local/lib/python3.7/dist-packages/tensorflow/python/keras/datasets/imdb.py:160: VisibleDeprecationWarning: Creating an ndarray from ragged nested sequences (which is a list-or-tuple of lists-or-tuples-or ndarrays with different lengths or shapes) is deprecated. If you meant to do this, you must specify 'dtype=object' when creating the ndarray\n",
            "  x_test, y_test = np.array(xs[idx:]), np.array(labels[idx:])\n"
          ],
          "name": "stderr"
        }
      ]
    },
    {
      "cell_type": "code",
      "metadata": {
        "colab": {
          "base_uri": "https://localhost:8080/"
        },
        "id": "noPGIfDttBBN",
        "outputId": "c5a04640-6c4e-4736-e9f2-6e94b7f6b22e"
      },
      "source": [
        "# Inspect a sample review and its label\r\n",
        "print(\"--- Review ---\")\r\n",
        "print(X_train[7])\r\n",
        "print(\"--- Label ---\")\r\n",
        "print(y_train[7])"
      ],
      "execution_count": 47,
      "outputs": [
        {
          "output_type": "stream",
          "text": [
            "--- Review ---\n",
            "[1, 4, 2, 716, 4, 65, 7, 4, 689, 4367, 2, 2343, 4804, 2, 2, 2, 2, 2315, 2, 2, 2, 2, 4, 2, 628, 2, 37, 9, 150, 4, 2, 4069, 11, 2909, 4, 2, 847, 313, 6, 176, 2, 9, 2, 138, 9, 4434, 19, 4, 96, 183, 26, 4, 192, 15, 27, 2, 799, 2, 2, 588, 84, 11, 4, 3231, 152, 339, 2, 42, 4869, 2, 2, 345, 4804, 2, 142, 43, 218, 208, 54, 29, 853, 659, 46, 4, 882, 183, 80, 115, 30, 4, 172, 174, 10, 10, 1001, 398, 1001, 1055, 526, 34, 3717, 2, 2, 2, 17, 4, 2, 1094, 871, 64, 85, 22, 2030, 1109, 38, 230, 9, 4, 4324, 2, 251, 2, 1034, 195, 301, 14, 16, 31, 7, 4, 2, 8, 783, 2, 33, 4, 2945, 103, 465, 2, 42, 845, 45, 446, 11, 1895, 19, 184, 76, 32, 4, 2, 207, 110, 13, 197, 4, 2, 16, 601, 964, 2152, 595, 13, 258, 4, 1730, 66, 338, 55, 2, 4, 550, 728, 65, 1196, 8, 1839, 61, 1546, 42, 2, 61, 602, 120, 45, 2, 6, 320, 786, 99, 196, 2, 786, 2, 4, 225, 4, 373, 1009, 33, 4, 130, 63, 69, 72, 1104, 46, 1292, 225, 14, 66, 194, 2, 1703, 56, 8, 803, 1004, 6, 2, 155, 11, 4, 2, 3231, 45, 853, 2029, 8, 30, 6, 117, 430, 19, 6, 2, 9, 15, 66, 424, 8, 2337, 178, 9, 15, 66, 424, 8, 1465, 178, 9, 15, 66, 142, 15, 9, 424, 8, 28, 178, 662, 44, 12, 17, 4, 130, 898, 1686, 9, 6, 2, 267, 185, 430, 4, 118, 2, 277, 15, 4, 1188, 100, 216, 56, 19, 4, 357, 114, 2, 367, 45, 115, 93, 788, 121, 4, 2, 79, 32, 68, 278, 39, 8, 818, 162, 4165, 237, 600, 7, 98, 306, 8, 157, 549, 628, 11, 6, 2, 13, 824, 15, 4104, 76, 42, 138, 36, 774, 77, 1059, 159, 150, 4, 229, 497, 8, 1493, 11, 175, 251, 453, 19, 2, 189, 12, 43, 127, 6, 394, 292, 7, 2, 4, 107, 8, 4, 2826, 15, 1082, 1251, 9, 906, 42, 1134, 6, 66, 78, 22, 15, 13, 244, 2519, 8, 135, 233, 52, 44, 10, 10, 466, 112, 398, 526, 34, 4, 1572, 4413, 2, 1094, 225, 57, 599, 133, 225, 6, 227, 7, 541, 4323, 6, 171, 139, 7, 539, 2, 56, 11, 6, 3231, 21, 164, 25, 426, 81, 33, 344, 624, 19, 6, 4617, 7, 2, 2, 6, 2, 4, 22, 9, 1082, 629, 237, 45, 188, 6, 55, 655, 707, 2, 956, 225, 1456, 841, 42, 1310, 225, 6, 2493, 1467, 2, 2828, 21, 4, 2, 9, 364, 23, 4, 2228, 2407, 225, 24, 76, 133, 18, 4, 189, 2293, 10, 10, 814, 11, 2, 11, 2642, 14, 47, 15, 682, 364, 352, 168, 44, 12, 45, 24, 913, 93, 21, 247, 2441, 4, 116, 34, 35, 1859, 8, 72, 177, 9, 164, 8, 901, 344, 44, 13, 191, 135, 13, 126, 421, 233, 18, 259, 10, 10, 4, 2, 2, 4, 2, 3074, 7, 112, 199, 753, 357, 39, 63, 12, 115, 2, 763, 8, 15, 35, 3282, 1523, 65, 57, 599, 6, 1916, 277, 1730, 37, 25, 92, 202, 6, 2, 44, 25, 28, 6, 22, 15, 122, 24, 4171, 72, 33, 32]\n",
            "--- Label ---\n",
            "0\n"
          ],
          "name": "stdout"
        }
      ]
    },
    {
      "cell_type": "markdown",
      "metadata": {
        "id": "cJTMcHW4tHYk"
      },
      "source": [
        "Notice that the label is an integer (0 for negative, 1 for positive), and the review itself is stored as a sequence of integers. These are word IDs that have been preassigned to individual words. To map them back to the original words, you can use the dictionary returned by `imdb.get_word_index()`."
      ]
    },
    {
      "cell_type": "code",
      "metadata": {
        "colab": {
          "base_uri": "https://localhost:8080/"
        },
        "id": "qw2vbNVAtDV9",
        "outputId": "1dc40b5c-882f-47f6-ae8e-ab515fdae4c4"
      },
      "source": [
        "# Map word IDs back to words\r\n",
        "word2id = imdb.get_word_index()\r\n",
        "id2word = {i: word for word, i in word2id.items()}\r\n",
        "print(\"--- Review (with words) ---\")\r\n",
        "print([id2word.get(i, \" \") for i in X_train[7]])\r\n",
        "print(\"--- Label ---\")\r\n",
        "print(y_train[7])"
      ],
      "execution_count": 48,
      "outputs": [
        {
          "output_type": "stream",
          "text": [
            "--- Review (with words) ---\n",
            "['the', 'of', 'and', 'local', 'of', 'their', 'br', 'of', 'attention', 'widow', 'and', 'captures', 'parties', 'and', 'and', 'and', 'and', 'excitement', 'and', 'and', 'and', 'and', 'of', 'and', 'english', 'and', 'like', 'it', 'years', 'of', 'and', 'unintentional', 'this', 'hitchcock', 'of', 'and', 'learn', 'everyone', 'is', 'quite', 'and', 'it', 'and', 'such', 'it', 'bonus', 'film', 'of', 'too', 'seems', 'he', 'of', 'enough', 'for', 'be', 'and', 'editing', 'and', 'and', 'please', 'great', 'this', 'of', 'shoots', 'thing', '3', 'and', \"it's\", 'mentioning', 'and', 'and', 'given', 'parties', 'and', 'back', 'out', 'interesting', 'times', 'no', 'all', 'average', 'talking', 'some', 'of', 'nor', 'seems', 'into', 'best', 'at', 'of', 'every', 'cast', 'i', 'i', 'inside', 'keep', 'inside', 'large', 'viewer', 'who', 'obscure', 'and', 'and', 'and', 'movie', 'of', 'and', 'entirely', \"you've\", 'see', 'because', 'you', 'deals', 'successful', 'her', 'anything', 'it', 'of', 'dedicated', 'and', 'hard', 'and', 'further', \"that's\", 'takes', 'as', 'with', 'by', 'br', 'of', 'and', 'in', 'minute', 'and', 'they', 'of', 'westerns', 'watch', 'seemed', 'and', \"it's\", 'lee', 'if', 'oh', 'this', 'japan', 'film', 'around', 'get', 'an', 'of', 'and', 'always', 'life', 'was', 'between', 'of', 'and', 'with', 'group', 'rate', 'code', \"film's\", 'was', 'although', 'of', 'arts', 'had', 'death', 'time', 'and', 'of', 'anyway', 'romantic', 'their', 'won', 'in', 'kevin', 'only', 'flying', \"it's\", 'and', 'only', 'cut', 'show', 'if', 'and', 'is', 'star', 'stay', 'movies', 'both', 'and', 'stay', 'and', 'of', 'music', 'of', 'tell', 'missing', 'they', 'of', 'here', 'really', 'me', 'we', 'value', 'some', 'silent', 'music', 'as', 'had', 'thought', 'and', 'realized', 'she', 'in', 'sorry', 'reasons', 'is', 'and', '10', 'this', 'of', 'and', 'shoots', 'if', 'average', 'remembered', 'in', 'at', 'is', 'over', 'worse', 'film', 'is', 'and', 'it', 'for', 'had', 'absolutely', 'in', 'naive', 'want', 'it', 'for', 'had', 'absolutely', 'in', 'j', 'want', 'it', 'for', 'had', 'back', 'for', 'it', 'absolutely', 'in', 'one', 'want', 'shots', 'has', 'that', 'movie', 'of', 'here', 'write', 'whatsoever', 'it', 'is', 'and', 'set', 'got', 'worse', 'of', 'where', 'and', 'once', 'for', 'of', 'accent', 'after', 'saw', 'she', 'film', 'of', 'rest', 'little', 'and', 'camera', 'if', 'best', 'way', 'elements', 'know', 'of', 'and', 'also', 'an', 'were', 'sense', 'or', 'in', 'realistic', 'actually', 'satan', \"he's\", 'score', 'br', 'any', 'himself', 'in', 'another', 'type', 'english', 'this', 'is', 'and', 'was', 'tom', 'for', 'dating', 'get', \"it's\", 'such', 'from', 'fantastic', 'will', 'pace', 'new', 'years', 'of', 'guy', 'game', 'in', 'murders', 'this', 'us', 'hard', 'lives', 'film', 'and', 'fact', 'that', 'out', 'end', 'is', 'getting', 'together', 'br', 'and', 'of', 'seen', 'in', 'of', 'jail', 'for', 'sees', 'utterly', 'it', 'meet', \"it's\", 'depth', 'is', 'had', 'do', 'you', 'for', 'was', 'rather', 'convince', 'in', 'why', 'last', 'very', 'has', 'i', 'i', 'throughout', 'never', 'keep', 'viewer', 'who', 'of', 'becoming', 'switch', 'and', 'entirely', 'music', 'even', 'interest', 'scene', 'music', 'is', 'far', 'br', 'voice', 'riveting', 'is', 'again', 'something', 'br', 'decent', 'and', 'she', 'this', 'is', 'shoots', 'not', 'director', 'have', 'against', 'people', 'they', 'line', 'cinematography', 'film', 'is', 'couples', 'br', 'and', 'and', 'is', 'and', 'of', 'you', 'it', 'sees', 'hero', \"he's\", 'if', \"can't\", 'is', 'time', 'husband', 'silly', 'and', 'result', 'music', 'image', 'sequences', \"it's\", 'chase', 'music', 'is', 'veteran', 'include', 'and', 'freeman', 'not', 'of', 'and', 'it', 'along', 'are', 'of', 'hearing', 'cutting', 'music', 'his', 'get', 'scene', 'but', 'of', 'fact', 'correct', 'i', 'i', 'means', 'this', 'and', 'this', 'blockbuster', 'as', 'there', 'for', 'disappointed', 'along', 'wrong', 'few', 'has', 'that', 'if', 'his', 'weird', 'way', 'not', 'girl', 'display', 'of', 'love', 'who', 'so', 'friendship', 'in', 'we', 'down', 'it', 'director', 'in', 'situation', 'line', 'has', 'was', 'big', 'why', 'was', 'your', 'supposed', 'last', 'but', 'especially', 'i', 'i', 'of', 'and', 'and', 'of', 'and', 'internet', 'br', 'never', 'give', 'theme', 'rest', 'or', 'really', 'that', 'best', 'and', 'release', 'in', 'for', 'so', 'multi', 'random', 'their', 'even', 'interest', 'is', 'judge', 'once', 'arts', 'like', 'have', 'then', 'own', 'is', 'and', 'has', 'have', 'one', 'is', 'you', 'for', 'off', 'his', 'dutch', 'we', 'they', 'an']\n",
            "--- Label ---\n",
            "0\n"
          ],
          "name": "stdout"
        }
      ]
    },
    {
      "cell_type": "markdown",
      "metadata": {
        "id": "whg3KbjftOvN"
      },
      "source": [
        "Unlike our Bag-of-Words approach, where we simply summarized the counts of each word in a document, this representation essentially retains the entire sequence of words (minus punctuation, stopwords, etc.). This is critical for RNNs to function. But it also means that now the features can be of different lengths!\r\n",
        "\r\n",
        "### Pad sequences\r\n",
        "\r\n",
        "In order to feed this data into your RNN, all input documents must have the same length. Let's limit the maximum review length to `max_words` by truncating longer reviews and padding shorter reviews with a null value (0). You can accomplish this easily using the [`pad_sequences()`](https://keras.io/preprocessing/sequence/#pad_sequences) function in Keras. For now, set `max_words` to 500."
      ]
    },
    {
      "cell_type": "code",
      "metadata": {
        "id": "TrGVtiZTtWfx"
      },
      "source": [
        "from keras.preprocessing import sequence\r\n",
        "\r\n",
        "# Set the maximum number of words per document (for both training and testing)\r\n",
        "max_words = 500\r\n",
        "\r\n",
        "# TODO: Pad sequences in X_train and X_test\r\n",
        "X_train = sequence.pad_sequences(X_train, maxlen=max_words)\r\n",
        "X_test = sequence.pad_sequences(X_test, maxlen=max_words)"
      ],
      "execution_count": 49,
      "outputs": []
    },
    {
      "cell_type": "markdown",
      "metadata": {
        "id": "pQej6WXttaKJ"
      },
      "source": [
        "### Design an RNN model for sentiment analysis\r\n",
        "\r\n",
        "Build your model architecture in the code cell below. We have imported some layers from Keras that you might need but feel free to use any other layers / transformations you like.\r\n",
        "\r\n",
        "Remember that your input is a sequence of words (technically, integer word IDs) of maximum length = `max_words`, and your output is a binary sentiment label (0 or 1)."
      ]
    },
    {
      "cell_type": "code",
      "metadata": {
        "colab": {
          "base_uri": "https://localhost:8080/"
        },
        "id": "vb9VlV31tXNm",
        "outputId": "c92636bd-7d67-4a6b-e33b-d9839cf3b5a2"
      },
      "source": [
        "from keras.models import Sequential\r\n",
        "from keras.layers import Embedding, LSTM, Dense, Dropout\r\n",
        "\r\n",
        "# Design your model\r\n",
        "embedding_size = 32\r\n",
        "model = Sequential()\r\n",
        "model.add(Embedding(vocabulary_size, embedding_size, input_length=max_words))\r\n",
        "model.add(LSTM(100))\r\n",
        "model.add(Dense(1, activation='sigmoid'))\r\n",
        "\r\n",
        "print(model.summary())"
      ],
      "execution_count": 50,
      "outputs": [
        {
          "output_type": "stream",
          "text": [
            "Model: \"sequential_1\"\n",
            "_________________________________________________________________\n",
            "Layer (type)                 Output Shape              Param #   \n",
            "=================================================================\n",
            "embedding_1 (Embedding)      (None, 500, 32)           160000    \n",
            "_________________________________________________________________\n",
            "lstm_1 (LSTM)                (None, 100)               53200     \n",
            "_________________________________________________________________\n",
            "dense_1 (Dense)              (None, 1)                 101       \n",
            "=================================================================\n",
            "Total params: 213,301\n",
            "Trainable params: 213,301\n",
            "Non-trainable params: 0\n",
            "_________________________________________________________________\n",
            "None\n"
          ],
          "name": "stdout"
        }
      ]
    },
    {
      "cell_type": "markdown",
      "metadata": {
        "id": "13uqlNggth9o"
      },
      "source": [
        "### Train and evaluate your model\r\n",
        "\r\n",
        "Now you are ready to train your model. In Keras world, you first need to _compile_ your model by specifying the loss function and optimizer you want to use while training, as well as any evaluation metrics you'd like to measure. Specify the approprate parameters, including at least one metric `'accuracy'`."
      ]
    },
    {
      "cell_type": "code",
      "metadata": {
        "id": "Nk9l6727teSl"
      },
      "source": [
        "# Compile your model, specifying a loss function, optimizer, and metrics\r\n",
        "model.compile(loss='binary_crossentropy', optimizer='adam', metrics=['accuracy'])"
      ],
      "execution_count": 51,
      "outputs": []
    },
    {
      "cell_type": "markdown",
      "metadata": {
        "id": "svWvA3DPtq6e"
      },
      "source": [
        "Once compiled, you can kick off the training process. There are two important training parameters that you have to specify - **batch size** and **number of training epochs**, which together with your model architecture determine the total training time.\r\n",
        "\r\n",
        "Training may take a while, so grab a cup of coffee, or better, go for a hike! If possible, consider using a GPU, as a single training run can take several hours on a CPU.\r\n",
        "\r\n",
        "> **Tip**: You can split off a small portion of the training set to be used for validation during training. This will help monitor the training process and identify potential overfitting. You can supply a validation set to `model.fit()` using its `validation_data` parameter, or just specify `validation_split` - a fraction of the training data for Keras to set aside for this purpose (typically 5-10%). Validation metrics are evaluated once at the end of each epoch."
      ]
    },
    {
      "cell_type": "code",
      "metadata": {
        "colab": {
          "base_uri": "https://localhost:8080/"
        },
        "id": "KL4UlQ00to01",
        "outputId": "2352b275-5521-411c-e2ca-06ea263cea4c"
      },
      "source": [
        "# Specify training parameters: batch size and number of epochs\r\n",
        "batch_size = 64\r\n",
        "num_epochs = 3\r\n",
        "\r\n",
        "# TODO(optional): Reserve/specify some training data for validation (not to be used for training)\r\n",
        "X_valid, y_valid = X_train[:batch_size], y_train[:batch_size]  # first batch_size samples\r\n",
        "X_train2, y_train2 = X_train[batch_size:], y_train[batch_size:]  # rest for training\r\n",
        "\r\n",
        "# Train your model\r\n",
        "model.fit(X_train2, y_train2,\r\n",
        "          validation_data=(X_valid, y_valid),\r\n",
        "          batch_size=batch_size, epochs=num_epochs)"
      ],
      "execution_count": 52,
      "outputs": [
        {
          "output_type": "stream",
          "text": [
            "Epoch 1/3\n",
            "390/390 [==============================] - 13s 29ms/step - loss: 0.5654 - accuracy: 0.6820 - val_loss: 0.4447 - val_accuracy: 0.7812\n",
            "Epoch 2/3\n",
            "390/390 [==============================] - 11s 27ms/step - loss: 0.3150 - accuracy: 0.8710 - val_loss: 0.2736 - val_accuracy: 0.9062\n",
            "Epoch 3/3\n",
            "390/390 [==============================] - 11s 28ms/step - loss: 0.2398 - accuracy: 0.9066 - val_loss: 0.2175 - val_accuracy: 0.9375\n"
          ],
          "name": "stdout"
        },
        {
          "output_type": "execute_result",
          "data": {
            "text/plain": [
              "<tensorflow.python.keras.callbacks.History at 0x7ffadd011550>"
            ]
          },
          "metadata": {
            "tags": []
          },
          "execution_count": 52
        }
      ]
    },
    {
      "cell_type": "code",
      "metadata": {
        "id": "OZ-UFfnKtx-t"
      },
      "source": [
        "# Save your model, so that you can quickly load it in future (and perhaps resume training)\r\n",
        "model_file = \"rnn_model.h5\"  # HDF5 file\r\n",
        "model.save(os.path.join(cache_dir, model_file))\r\n",
        "\r\n",
        "# Later you can load it using keras.models.load_model()\r\n",
        "#from keras.models import load_model\r\n",
        "#model = load_model(os.path.join(cache_dir, model_file))"
      ],
      "execution_count": 53,
      "outputs": []
    },
    {
      "cell_type": "code",
      "metadata": {
        "colab": {
          "base_uri": "https://localhost:8080/"
        },
        "id": "VbxithR4t0Rd",
        "outputId": "e17913f7-d050-456f-bdb6-5396dd3675bf"
      },
      "source": [
        "# Evaluate your model on the test set\r\n",
        "scores = model.evaluate(X_test, y_test, verbose=0)  # returns loss and other metrics specified in model.compile()\r\n",
        "print(\"Test accuracy:\", scores[1])  # scores[1] should correspond to accuracy if you passed in metrics=['accuracy']"
      ],
      "execution_count": 54,
      "outputs": [
        {
          "output_type": "stream",
          "text": [
            "Test accuracy: 0.872439980506897\n"
          ],
          "name": "stdout"
        }
      ]
    },
    {
      "cell_type": "markdown",
      "metadata": {
        "id": "SQKjrIREt7c-"
      },
      "source": [
        "## Extensions\r\n",
        "\r\n",
        "There are several ways in which you can build upon this notebook. Each comes with its set of challenges, but can be a rewarding experience.\r\n",
        "\r\n",
        "- The first thing is to try and improve the accuracy of your model by experimenting with different architectures, layers and parameters. How good can you get without taking prohibitively long to train? How do you prevent overfitting?\r\n",
        "\r\n",
        "- Then, you may want to deploy your model as a mobile app or web service. What do you need to do in order to package your model for such deployment? How would you accept a new review, convert it into a form suitable for your model, and perform the actual prediction? (Note that the same environment you used during training may not be available.)\r\n",
        "\r\n",
        "- One simplification we made in this notebook is to limit the task to binary classification. The dataset actually includes a more fine-grained review rating that is indicated in each review's filename (which is of the form `<[id]_[rating].txt>` where `[id]` is a unique identifier and `[rating]` is on a scale of 1-10; note that neutral reviews > 4 or < 7 have been excluded). How would you modify the notebook to perform regression on the review ratings? In what situations is regression more useful than classification, and vice-versa?\r\n"
      ]
    },
    {
      "cell_type": "code",
      "metadata": {
        "id": "nQkFDGh3t3L9"
      },
      "source": [
        ""
      ],
      "execution_count": 54,
      "outputs": []
    }
  ]
}